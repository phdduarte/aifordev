{
 "cells": [
  {
   "cell_type": "code",
   "execution_count": 2,
   "metadata": {},
   "outputs": [],
   "source": [
    "import time\n",
    "from openai import OpenAI"
   ]
  },
  {
   "cell_type": "code",
   "execution_count": 3,
   "metadata": {},
   "outputs": [
    {
     "ename": "NameError",
     "evalue": "name 'client' is not defined",
     "output_type": "error",
     "traceback": [
      "\u001b[0;31m---------------------------------------------------------------------------\u001b[0m",
      "\u001b[0;31mNameError\u001b[0m                                 Traceback (most recent call last)",
      "Cell \u001b[0;32mIn[3], line 5\u001b[0m\n\u001b[1;32m      1\u001b[0m question \u001b[38;5;241m=\u001b[39m \u001b[38;5;124mf\u001b[39m\u001b[38;5;124m'''\u001b[39m\u001b[38;5;124mGustavo está fazendo um tratamento de saúde e deve tomar 3 tipos diferentes de remédios. O primeiro remédio deve ser tomado de 4 em 4 horas, o segundo de 6 em 6 horas e o terceiro de 8 em 8 horas. Se Gustavo tomar os três remédios juntos, em quantas horas irá tomar os três juntos novamente?\u001b[39m\u001b[38;5;124m'''\u001b[39m\n\u001b[1;32m      3\u001b[0m official_answer_key \u001b[38;5;241m=\u001b[39m \u001b[38;5;124m\"\u001b[39m\u001b[38;5;124mvinte e quatro\u001b[39m\u001b[38;5;124m\"\u001b[39m\n\u001b[0;32m----> 5\u001b[0m assistant \u001b[38;5;241m=\u001b[39m \u001b[43mclient\u001b[49m\u001b[38;5;241m.\u001b[39mbeta\u001b[38;5;241m.\u001b[39massistants\u001b[38;5;241m.\u001b[39mcreate(\n\u001b[1;32m      6\u001b[0m   name\u001b[38;5;241m=\u001b[39m\u001b[38;5;124m\"\u001b[39m\u001b[38;5;124mMath Tutor\u001b[39m\u001b[38;5;124m\"\u001b[39m,\n\u001b[1;32m      7\u001b[0m   instructions\u001b[38;5;241m=\u001b[39m\u001b[38;5;124m\"\"\"\u001b[39m\n\u001b[1;32m      8\u001b[0m \u001b[38;5;124m  Você é um tutor pessoal de matemática. Sua tarefa é gerar um código Python para resolver a questão matemática que vou fornecer.\u001b[39m\n\u001b[1;32m      9\u001b[0m \u001b[38;5;124m  Atenha-se a fornecer apenas o código Python necessário para resolver o problema, sem explicações ou comentários adicionais.\u001b[39m\n\u001b[1;32m     10\u001b[0m \u001b[38;5;124m  Certifique-se de que o código seja funcional e eficiente, levando em consideração boas práticas de programação em Python.\u001b[39m\n\u001b[1;32m     11\u001b[0m \u001b[38;5;124m  \u001b[39m\u001b[38;5;124m\"\"\"\u001b[39m,\n\u001b[1;32m     12\u001b[0m   tools\u001b[38;5;241m=\u001b[39m[{\u001b[38;5;124m\"\u001b[39m\u001b[38;5;124mtype\u001b[39m\u001b[38;5;124m\"\u001b[39m: \u001b[38;5;124m\"\u001b[39m\u001b[38;5;124mcode_interpreter\u001b[39m\u001b[38;5;124m\"\u001b[39m}],\n\u001b[1;32m     13\u001b[0m   model\u001b[38;5;241m=\u001b[39m\u001b[38;5;124m\"\u001b[39m\u001b[38;5;124mgpt-4o\u001b[39m\u001b[38;5;124m\"\u001b[39m,\n\u001b[1;32m     14\u001b[0m )\n\u001b[1;32m     16\u001b[0m thread \u001b[38;5;241m=\u001b[39m client\u001b[38;5;241m.\u001b[39mbeta\u001b[38;5;241m.\u001b[39mthreads\u001b[38;5;241m.\u001b[39mcreate()\n\u001b[1;32m     18\u001b[0m message \u001b[38;5;241m=\u001b[39m client\u001b[38;5;241m.\u001b[39mbeta\u001b[38;5;241m.\u001b[39mthreads\u001b[38;5;241m.\u001b[39mmessages\u001b[38;5;241m.\u001b[39mcreate(\n\u001b[1;32m     19\u001b[0m   thread_id\u001b[38;5;241m=\u001b[39mthread\u001b[38;5;241m.\u001b[39mid,\n\u001b[1;32m     20\u001b[0m   role\u001b[38;5;241m=\u001b[39m\u001b[38;5;124m'\u001b[39m\u001b[38;5;124muser\u001b[39m\u001b[38;5;124m'\u001b[39m,\n\u001b[1;32m     21\u001b[0m   content\u001b[38;5;241m=\u001b[39mquestion\n\u001b[1;32m     22\u001b[0m )\n",
      "\u001b[0;31mNameError\u001b[0m: name 'client' is not defined"
     ]
    }
   ],
   "source": [
    "question = f'''Gustavo está fazendo um tratamento de saúde e deve tomar 3 tipos diferentes de remédios. O primeiro remédio deve ser tomado de 4 em 4 horas, o segundo de 6 em 6 horas e o terceiro de 8 em 8 horas. Se Gustavo tomar os três remédios juntos, em quantas horas irá tomar os três juntos novamente?'''\n",
    "\n",
    "official_answer_key = \"vinte e quatro\"\n",
    "\n",
    "assistant = client.beta.assistants.create(\n",
    "  name=\"Math Tutor\",\n",
    "  instructions=\"\"\"\n",
    "  Você é um tutor pessoal de matemática. Sua tarefa é gerar um código Python para resolver a questão matemática que vou fornecer.\n",
    "  Atenha-se a fornecer apenas o código Python necessário para resolver o problema, sem explicações ou comentários adicionais.\n",
    "  Certifique-se de que o código seja funcional e eficiente, levando em consideração boas práticas de programação em Python.\n",
    "  \"\"\",\n",
    "  tools=[{\"type\": \"code_interpreter\"}],\n",
    "  model=\"gpt-4o\",\n",
    ")\n",
    "\n",
    "thread = client.beta.threads.create()\n",
    "\n",
    "message = client.beta.threads.messages.create(\n",
    "  thread_id=thread.id,\n",
    "  role='user',\n",
    "  content=question\n",
    ")\n",
    "\n",
    "run = client.beta.threads.runs.create(\n",
    "  thread_id=thread.id,\n",
    "  assistant_id=assistant.id\n",
    ")\n",
    "\n",
    "while run.status in ['queued', 'in_progress', 'cancelling']:\n",
    "  time.sleep(1)\n",
    "  run = client.beta.threads.runs.retrieve(\n",
    "    thread_id=thread.id,\n",
    "    run_id=run.id\n",
    "  )\n",
    "if run.status == 'completed':\n",
    "  mensagens = client.beta.threads.messages.list(\n",
    "      thread_id=thread.id\n",
    "  )\n",
    "else:\n",
    "  print('Erro', run.status)\n",
    "\n",
    "python_code = mensagens.data[0].content[0].text.value"
   ]
  },
  {
   "cell_type": "code",
   "execution_count": null,
   "metadata": {},
   "outputs": [],
   "source": [
    "# Run Step by Step\n",
    "run_steps = client.beta.threads.runs.steps.list(\n",
    "  thread_id=thread.id,\n",
    "  run_id=run.id\n",
    ")\n",
    "\n",
    "for step in run_steps.data[::-1]:\n",
    "    print('======= Step >', step.step_details.type)\n",
    "    if step.step_details.type == 'tool_calls':\n",
    "        for tool_call in step.step_details.tool_calls:\n",
    "            print('```')\n",
    "            print(tool_call.code_interpreter.input)\n",
    "            print('```')\n",
    "            if tool_call.code_interpreter.outputs:\n",
    "                if tool_call.code_interpreter.outputs[0].type == 'logs':\n",
    "                    print('Result')\n",
    "                    print(tool_call.code_interpreter.outputs[0].logs)\n",
    "    if step.step_details.type == 'message_creation':\n",
    "        message = client.beta.threads.messages.retrieve(\n",
    "            thread_id=thread.id,\n",
    "            message_id=step.step_details.message_creation.message_id\n",
    "        )\n",
    "        if message.content[0].type == 'text':\n",
    "            print(message.content[0].text.value)"
   ]
  },
  {
   "cell_type": "code",
   "execution_count": null,
   "metadata": {},
   "outputs": [
    {
     "name": "stdout",
     "output_type": "stream",
     "text": [
      "24\n"
     ]
    }
   ],
   "source": [
    "message = client.beta.threads.messages.create(\n",
    "  thread_id=thread.id,\n",
    "  role='user',\n",
    "  content=f\"\"\"Você deve executar o seguinte código Python: {python_code}. Não faça modificações ou adições ao código, e não forneça explicações ou saídas detalhadas. Apenas execute o código e retorne o resultado da execução.\"\"\"\n",
    ")\n",
    "\n",
    "run = client.beta.threads.runs.create(\n",
    "  thread_id=thread.id,\n",
    "  assistant_id=assistant.id\n",
    ")\n",
    "\n",
    "while run.status in ['queued', 'in_progress', 'cancelling']:\n",
    "  time.sleep(1)\n",
    "  run = client.beta.threads.runs.retrieve(\n",
    "    thread_id=thread.id,\n",
    "    run_id=run.id\n",
    "  )\n",
    "if run.status == 'completed':\n",
    "  mensagens = client.beta.threads.messages.list(\n",
    "      thread_id=thread.id\n",
    "  )\n",
    "else:\n",
    "  print('Erro', run.status)\n",
    "\n",
    "execution_result = mensagens.data[0].content[0].text.value\n",
    "print(execution_result)\n"
   ]
  },
  {
   "cell_type": "code",
   "execution_count": null,
   "metadata": {},
   "outputs": [
    {
     "name": "stdout",
     "output_type": "stream",
     "text": [
      "SIM\n"
     ]
    }
   ],
   "source": [
    "message = client.beta.threads.messages.create(\n",
    "  thread_id=thread.id,\n",
    "  role='user',\n",
    "  content=f'''Compare o seguinte resultado: {execution_result} obtido pelo código Python: {python_code} com o gabarito oficial: {official_answer_key}. O resultado fornecido pelo código Python é suficiente para alcançar a resposta do gabarito oficial? Responda apenas com \"SIM\" ou \"NÃO\".'''\n",
    ")\n",
    "\n",
    "run = client.beta.threads.runs.create(\n",
    "  thread_id=thread.id,\n",
    "  assistant_id=assistant.id\n",
    ")\n",
    "\n",
    "while run.status in ['queued', 'in_progress', 'cancelling']:\n",
    "  time.sleep(1)\n",
    "  run = client.beta.threads.runs.retrieve(\n",
    "    thread_id=thread.id,\n",
    "    run_id=run.id\n",
    "  )\n",
    "if run.status == 'completed':\n",
    "  mensagens = client.beta.threads.messages.list(\n",
    "      thread_id=thread.id\n",
    "  )\n",
    "else:\n",
    "  print('Erro', run.status)\n",
    "\n",
    "execution_result = mensagens.data[0].content[0].text.value\n",
    "print(execution_result)\n"
   ]
  },
  {
   "cell_type": "code",
   "execution_count": null,
   "metadata": {},
   "outputs": [
    {
     "name": "stdout",
     "output_type": "stream",
     "text": [
      "### Gabarito Comentado: Frequência de Medicação\n",
      "\n",
      "A resposta correta é: **24 horas**.\n",
      "\n",
      "Agora, vamos explicar a questão passo a passo:\n",
      "\n",
      "#### Tema da Questão\n",
      "\n",
      "Esta questão aborda o conceito de múltiplos comuns em matemática, especificamente o **mínimo múltiplo comum (MMC)**. O MMC de dois ou mais números é o menor número inteiro positivo que é múltiplo de cada um dos números. Esse conceito é frequentemente usado para sincronizar eventos ou ciclos que ocorrem em diferentes períodos.\n",
      "\n",
      "##### Conhecimentos Necessários\n",
      "\n",
      "1. **Múltiplos e Divisores:** Entender quais são os múltiplos de um número.\n",
      "2. **Fatoração de Números:** Saber fatorar números em fatores primos.\n",
      "3. **Mínimo Múltiplo Comum:** Compreender como encontrar o MMC de dois ou mais números.\n",
      "\n",
      "#### Justificativa da Resposta\n",
      "\n",
      "Para determinar em quantas horas Gustavo tomará os três remédios simultaneamente novamente, é necessário calcular o MMC dos períodos de tempo em que ele toma cada remédio: 4 horas, 6 horas e 8 horas. Este mínimo múltiplo comum nos dará o intervalo de tempo após o qual todos os três remédios coincidirão novamente.\n",
      "\n",
      "#### Passo a Passo para Resolver Matematicamente\n",
      "\n",
      "##### Passo 1: Lista de Múltiplos\n",
      "Primeiro, podemos listar alguns múltiplos de cada número para ter uma visão inicial:\n",
      "- Múltiplos de 4: \\(4, 8, 12, 16, 20, 24, \\dots\\)\n",
      "- Múltiplos de 6: \\(6, 12, 18, 24, \\dots\\)\n",
      "- Múltiplos de 8: \\(8, 16, 24, \\dots\\)\n",
      "\n",
      "Observamos que o número 24 aparece nas três listas, indicando que ele é um múltiplo comum. Vamos verificar isso matematicamente usando a técnica de fatoração.\n",
      "\n",
      "##### Passo 2: Fatoração em Números Primos\n",
      "\n",
      "Fatoramos cada período:\n",
      "- **4:** \\(2^2\\)\n",
      "- **6:** \\(2^1 \\times 3^1\\)\n",
      "- **8:** \\(2^3\\)\n",
      "\n",
      "##### Passo 3: Determinação dos Fatores Máximos\n",
      "Para encontrar o MMC, tomamos o maior expoente de cada fator primo presente nas decomposições:\n",
      "- O maior expoente de \\(2\\) é \\(2^3\\) (adequado ao 8).\n",
      "- O maior expoente de \\(3\\) é \\(3^1\\) (adequado ao 6).\n",
      "\n",
      "O MMC é então o produto desses fatores com os maiores expoentes:\n",
      "\\[ MMC = 2^3 \\times 3^1 \\]\n",
      "\\[ MMC = 8 \\times 3 = 24 \\]\n",
      "\n",
      "Portanto, Gustavo tomará os três remédios juntos novamente após 24 horas.\n",
      "\n",
      "#### Explicação Conclusiva\n",
      "\n",
      "Ao calcular os múltiplos e aplicar a técnica de fatoração, ficou claro que a menor quantidade de horas em que os três ciclos de medicação coincidem é 24 horas. Este resultado é intuitivamente corroborado pelos múltiplos listados e confirmado pela abordagem matemática rigorosa da determinação do MMC através da fatoração.\n"
     ]
    }
   ],
   "source": [
    "message = client.beta.threads.messages.create(\n",
    "  thread_id=thread.id,\n",
    "  role='user',\n",
    "  content=f'''\n",
    "  Você é um especialista em Matemática sua tarefa é fornecer soluções detalhadas e explicações claras, bem documentadas. Seu papel é guiar o aluno para uma compreensão profunda do tema abordado e da resposta correta, através de explicações detalhadas e passo a passo. Você interage com o aluno de forma educada e gentil, evitando repetir o enunciado da questão. Suas respostas são elaboradas para facilitar o entendimento integral do assunto em discussão. Com sua experiência, você fornece uma aprendizagem que verdadeiramente dialoga com as necessidades do aluno.\n",
    "  Escreva um gabarito comentado sobre seguinte questão: {question} seguindo os passos abaixo:\n",
    "  - Explique o tema da questão, como ela aborda o tema e os conhecimentos necessários para resolvê-la.\n",
    "  - Justifique a resposta correta.\n",
    "  - Comece sua mensagem deixando claro qual é a resposta correta e depois desenvolva e explique a questão.\n",
    "  - Mostre o passo a passo de como resolver matemáticamente o problema.'''\n",
    ")\n",
    "\n",
    "run = client.beta.threads.runs.create(\n",
    "  thread_id=thread.id,\n",
    "  assistant_id=assistant.id\n",
    ")\n",
    "\n",
    "while run.status in ['queued', 'in_progress', 'cancelling']:\n",
    "  time.sleep(1)\n",
    "  run = client.beta.threads.runs.retrieve(\n",
    "    thread_id=thread.id,\n",
    "    run_id=run.id\n",
    "  )\n",
    "if run.status == 'completed':\n",
    "  mensagens = client.beta.threads.messages.list(\n",
    "      thread_id=thread.id\n",
    "  )\n",
    "else:\n",
    "  print('Erro', run.status)\n",
    "\n",
    "execution_result = mensagens.data[0].content[0].text.value\n",
    "print(execution_result)"
   ]
  },
  {
   "cell_type": "code",
   "execution_count": null,
   "metadata": {},
   "outputs": [],
   "source": []
  }
 ],
 "metadata": {
  "kernelspec": {
   "display_name": "myenv",
   "language": "python",
   "name": "python3"
  },
  "language_info": {
   "codemirror_mode": {
    "name": "ipython",
    "version": 3
   },
   "file_extension": ".py",
   "mimetype": "text/x-python",
   "name": "python",
   "nbconvert_exporter": "python",
   "pygments_lexer": "ipython3",
   "version": "3.12.5"
  }
 },
 "nbformat": 4,
 "nbformat_minor": 2
}
