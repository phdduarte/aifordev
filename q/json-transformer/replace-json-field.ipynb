{
 "cells": [
  {
   "cell_type": "code",
   "execution_count": null,
   "metadata": {},
   "outputs": [],
   "source": [
    "%pip install pandas"
   ]
  },
  {
   "cell_type": "code",
   "execution_count": 1,
   "metadata": {},
   "outputs": [],
   "source": [
    "import json\n",
    "\n",
    "# Ler o JSON de um arquivo\n",
    "with open('skoll-db.questions.json', 'r') as file:\n",
    "    json_data = file.read()\n",
    "\n",
    "# Carregar o JSON para um objeto Python (lista de dicionários)\n",
    "data = json.loads(json_data)\n",
    "\n",
    "# Iterar sobre cada elemento do JSON e modificar \"discipline\" para \"discipline_id\"\n",
    "for item in data:\n",
    "    if \"discipline\" in item and \"$oid\" in item[\"discipline\"]:\n",
    "        item[\"discipline_id\"] = item[\"discipline\"][\"$oid\"]\n",
    "        del item[\"discipline\"]\n",
    "\n",
    "# Converter de volta para JSON\n",
    "updated_json_data = json.dumps(data, indent=2, ensure_ascii=False)\n",
    "\n",
    "# Salvar o JSON atualizado em outro arquivo\n",
    "with open('skoll-db.questions.updated.json', 'w') as file:\n",
    "    file.write(updated_json_data)\n",
    "\n"
   ]
  },
  {
   "cell_type": "code",
   "execution_count": 6,
   "metadata": {},
   "outputs": [],
   "source": [
    "import json\n",
    "\n",
    "# Nome do arquivo JSON de entrada e saída\n",
    "input_file = 'skoll-db.questions.updated.json'\n",
    "output_file = 'skoll-db.questions.cleaned.json'\n",
    "\n",
    "# Carregar o arquivo JSON\n",
    "with open(input_file, 'r') as f:\n",
    "    data = json.load(f)\n",
    "\n",
    "# Remover as propriedades '_id' e 'id' de cada objeto no array\n",
    "for question in data:\n",
    "    if '_id' in question:\n",
    "        del question['_id']\n",
    "    if 'id' in question:\n",
    "        del question['id']\n",
    "    if 'grade_conditions' in question:\n",
    "        del question['grade_conditions']\n",
    "\n",
    "# Salvar o resultado em um novo arquivo JSON\n",
    "with open(output_file, 'w') as f:\n",
    "    json.dump(data, f, ensure_ascii=False, indent=4)"
   ]
  },
  {
   "cell_type": "code",
   "execution_count": 6,
   "metadata": {},
   "outputs": [
    {
     "name": "stdout",
     "output_type": "stream",
     "text": [
      "Arquivo convertido para skoll-db.questions.final.csv\n"
     ]
    }
   ],
   "source": [
    "import pandas as pd\n",
    "\n",
    "# Carregar o arquivo JSON, especificando que o campo 'year' é um inteiro\n",
    "json_file = './skoll-db.questions.final.json'\n",
    "data = pd.read_json(json_file)\n",
    "\n",
    "# Forçar a conversão da coluna 'year' para números, tratando valores inválidos como NaN\n",
    "data['year'] = pd.to_numeric(data['year'], errors='coerce')\n",
    "\n",
    "# Preencher valores NaN com um valor padrão (ex: 0) e converter para inteiros\n",
    "data['year'] = data['year'].fillna(0).astype(int)\n",
    "\n",
    "# Converter para CSV\n",
    "csv_file = 'skoll-db.questions.final.csv'\n",
    "data.to_csv(csv_file, index=False)\n",
    "\n",
    "print(f\"Arquivo convertido para {csv_file}\")"
   ]
  }
 ],
 "metadata": {
  "kernelspec": {
   "display_name": "Python (myenv)",
   "language": "python",
   "name": "myenv"
  },
  "language_info": {
   "codemirror_mode": {
    "name": "ipython",
    "version": 3
   },
   "file_extension": ".py",
   "mimetype": "text/x-python",
   "name": "python",
   "nbconvert_exporter": "python",
   "pygments_lexer": "ipython3",
   "version": "3.10.14"
  }
 },
 "nbformat": 4,
 "nbformat_minor": 2
}
