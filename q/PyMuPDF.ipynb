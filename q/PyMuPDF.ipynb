{
 "cells": [
  {
   "cell_type": "code",
   "execution_count": 1,
   "metadata": {},
   "outputs": [
    {
     "name": "stdout",
     "output_type": "stream",
     "text": [
      "Collecting pymupdf\n",
      "  Downloading PyMuPDF-1.24.11-cp38-abi3-macosx_11_0_arm64.whl.metadata (3.4 kB)\n",
      "Downloading PyMuPDF-1.24.11-cp38-abi3-macosx_11_0_arm64.whl (18.2 MB)\n",
      "\u001b[2K   \u001b[90m━━━━━━━━━━━━━━━━━━━━━━━━━━━━━━━━━━━━━━━━\u001b[0m \u001b[32m18.2/18.2 MB\u001b[0m \u001b[31m54.7 MB/s\u001b[0m eta \u001b[36m0:00:00\u001b[0m00:01\u001b[0m00:01\u001b[0m\n",
      "\u001b[?25hInstalling collected packages: pymupdf\n",
      "Successfully installed pymupdf-1.24.11\n",
      "\n",
      "\u001b[1m[\u001b[0m\u001b[34;49mnotice\u001b[0m\u001b[1;39;49m]\u001b[0m\u001b[39;49m A new release of pip is available: \u001b[0m\u001b[31;49m24.1.2\u001b[0m\u001b[39;49m -> \u001b[0m\u001b[32;49m24.2\u001b[0m\n",
      "\u001b[1m[\u001b[0m\u001b[34;49mnotice\u001b[0m\u001b[1;39;49m]\u001b[0m\u001b[39;49m To update, run: \u001b[0m\u001b[32;49mpip install --upgrade pip\u001b[0m\n",
      "Note: you may need to restart the kernel to use updated packages.\n"
     ]
    }
   ],
   "source": [
    "%pip install pymupdf"
   ]
  },
  {
   "cell_type": "code",
   "execution_count": 2,
   "metadata": {},
   "outputs": [
    {
     "name": "stdout",
     "output_type": "stream",
     "text": [
      "Texto extraído e salvo em 'output.txt'\n"
     ]
    }
   ],
   "source": [
    "import fitz  # PyMuPDF\n",
    "\n",
    "# Abrir um arquivo PDF\n",
    "pdf_document = \"exemplo.pdf\"  # Substitua com o caminho do seu PDF\n",
    "document = fitz.open(pdf_document)\n",
    "\n",
    "# Extrair texto do PDF\n",
    "pdf_text = \"\"\n",
    "for page_num in range(document.page_count):\n",
    "    page = document.load_page(page_num)\n",
    "    pdf_text += page.get_text()\n",
    "\n",
    "# Salvar o texto extraído em um arquivo .txt\n",
    "with open(\"output.txt\", \"w\", encoding=\"utf-8\") as output_file:\n",
    "    output_file.write(pdf_text)\n",
    "\n",
    "print(\"Texto extraído e salvo em 'output.txt'\")"
   ]
  },
  {
   "cell_type": "code",
   "execution_count": 3,
   "metadata": {},
   "outputs": [
    {
     "name": "stdout",
     "output_type": "stream",
     "text": [
      "Imagem salva como image_0.jpeg\n",
      "Imagem salva como image_1.jpeg\n",
      "Imagem salva como image_2.jpeg\n",
      "Imagem salva como image_3.png\n",
      "Imagem salva como image_4.png\n",
      "Imagem salva como image_5.png\n",
      "Imagem salva como image_6.png\n",
      "Imagem salva como image_7.png\n",
      "Imagem salva como image_8.jpeg\n",
      "Imagem salva como image_9.jpeg\n",
      "Imagem salva como image_10.jpeg\n",
      "Imagem salva como image_11.jpeg\n",
      "Imagem salva como image_12.jpeg\n",
      "Imagem salva como image_13.jpeg\n",
      "Imagem salva como image_14.jpeg\n",
      "Imagem salva como image_15.png\n",
      "Imagem salva como image_16.jpeg\n",
      "Imagem salva como image_17.jpeg\n",
      "Imagem salva como image_18.jpeg\n",
      "Imagem salva como image_19.jpeg\n",
      "Imagem salva como image_20.jpeg\n",
      "Imagem salva como image_21.jpeg\n",
      "Imagem salva como image_22.jpeg\n",
      "Imagem salva como image_23.jpeg\n",
      "Imagem salva como image_24.png\n",
      "Imagem salva como image_25.jpeg\n",
      "Imagem salva como image_26.jpeg\n",
      "Imagem salva como image_27.jpeg\n",
      "Imagem salva como image_28.jpeg\n",
      "Imagem salva como image_29.jpeg\n",
      "Imagem salva como image_30.jpeg\n",
      "Imagem salva como image_31.jpeg\n",
      "Imagem salva como image_32.jpeg\n",
      "Imagem salva como image_33.jpeg\n",
      "Imagem salva como image_34.jpeg\n",
      "Imagem salva como image_35.jpeg\n",
      "Imagem salva como image_36.jpeg\n",
      "Imagem salva como image_37.jpeg\n",
      "Imagem salva como image_38.jpeg\n",
      "Imagem salva como image_39.jpeg\n",
      "Imagem salva como image_40.jpeg\n",
      "Imagem salva como image_41.png\n",
      "Imagem salva como image_42.png\n",
      "Imagem salva como image_43.jpeg\n",
      "Imagem salva como image_44.jpeg\n",
      "Imagem salva como image_45.jpeg\n",
      "Imagem salva como image_46.jpeg\n",
      "Imagem salva como image_47.png\n",
      "Imagem salva como image_48.jpeg\n",
      "Imagem salva como image_49.jpeg\n",
      "Extração de imagens completa. 50 imagem(ns) extraída(s).\n"
     ]
    }
   ],
   "source": [
    "import fitz  # PyMuPDF\n",
    "import os\n",
    "\n",
    "# Função para salvar as imagens extraídas\n",
    "def save_image(image_index, image_data, image_ext):\n",
    "    image_filename = f\"image_{image_index}.{image_ext}\"\n",
    "    with open(image_filename, \"wb\") as image_file:\n",
    "        image_file.write(image_data)\n",
    "    print(f\"Imagem salva como {image_filename}\")\n",
    "\n",
    "# Abrir o PDF\n",
    "pdf_document = \"exemplo.pdf\"  # Substitua com o caminho do seu PDF\n",
    "document = fitz.open(pdf_document)\n",
    "\n",
    "# Criar uma pasta para salvar as imagens\n",
    "if not os.path.exists(\"extracted_images\"):\n",
    "    os.makedirs(\"extracted_images\")\n",
    "\n",
    "# Variável para contar as imagens\n",
    "image_index = 0\n",
    "\n",
    "# Percorrer as páginas do PDF\n",
    "for page_num in range(document.page_count):\n",
    "    page = document.load_page(page_num)\n",
    "    images = page.get_images(full=True)  # Obtém todas as imagens da página\n",
    "    \n",
    "    # Percorrer cada imagem na página\n",
    "    for img in images:\n",
    "        xref = img[0]  # O primeiro valor do tuple é o XREF da imagem\n",
    "        base_image = document.extract_image(xref)\n",
    "        image_data = base_image[\"image\"]  # Os dados binários da imagem\n",
    "        image_ext = base_image[\"ext\"]  # A extensão do arquivo da imagem\n",
    "        \n",
    "        # Salvar a imagem\n",
    "        os.chdir(\"extracted_images\")\n",
    "        save_image(image_index, image_data, image_ext)\n",
    "        os.chdir(\"..\")\n",
    "        \n",
    "        image_index += 1\n",
    "\n",
    "print(f\"Extração de imagens completa. {image_index} imagem(ns) extraída(s).\")\n"
   ]
  },
  {
   "cell_type": "code",
   "execution_count": 9,
   "metadata": {},
   "outputs": [],
   "source": [
    "import fitz  # PyMuPDF\n",
    "\n",
    "def remove_questions_and_save_as_text(input_path, output_txt_path):\n",
    "    # Abrir o documento PDF\n",
    "    document = fitz.open(input_path)\n",
    "    \n",
    "    # Abrir o arquivo de texto para escrever o conteúdo processado\n",
    "    with open(output_txt_path, \"w\", encoding=\"utf-8\") as output_file:\n",
    "        # Iterar sobre todas as páginas do documento\n",
    "        for page_number in range(len(document)):\n",
    "            page = document.load_page(page_number)\n",
    "            blocks = page.get_text(\"blocks\")\n",
    "            \n",
    "            # Iterar sobre todos os blocos de texto da página\n",
    "            for block in blocks:\n",
    "                text = block[4]\n",
    "                # Se o bloco não contiver \"Questão\" no início, adicioná-lo ao novo conteúdo\n",
    "                if not text.strip().startswith(\"Questão\"):\n",
    "                    output_file.write(text + \"\\n\")\n",
    "\n",
    "    # Fechar o documento PDF\n",
    "    document.close()\n",
    "\n",
    "# Caminho do PDF original e do novo arquivo de texto sem as questões\n",
    "input_pdf_path = \"example.pdf\"\n",
    "output_txt_path = \"output.txt\"\n",
    "\n",
    "# Remover as questões e salvar em um arquivo de texto\n",
    "remove_questions_and_save_as_text(input_pdf_path, output_txt_path)\n"
   ]
  }
 ],
 "metadata": {
  "kernelspec": {
   "display_name": "Python (myenv)",
   "language": "python",
   "name": "myenv"
  },
  "language_info": {
   "codemirror_mode": {
    "name": "ipython",
    "version": 3
   },
   "file_extension": ".py",
   "mimetype": "text/x-python",
   "name": "python",
   "nbconvert_exporter": "python",
   "pygments_lexer": "ipython3",
   "version": "3.10.14"
  }
 },
 "nbformat": 4,
 "nbformat_minor": 2
}
