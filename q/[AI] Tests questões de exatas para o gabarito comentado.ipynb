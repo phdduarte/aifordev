{
 "cells": [
  {
   "cell_type": "markdown",
   "metadata": {
    "application/vnd.databricks.v1+cell": {
     "cellMetadata": {
      "byteLimit": 2048000,
      "rowLimit": 10000
     },
     "inputWidgets": {},
     "nuid": "e4243ed4-ec6b-404b-b194-b2cb4cf39fe1",
     "showTitle": false,
     "title": ""
    }
   },
   "source": [
    "### Resposta correta: 24 horas\n",
    "\n",
    "#### Tema da Questão\n",
    "Essa questão aborda o conceito de Mínimo Múltiplo Comum (MMC), que é um conceito importante em aritmética. O MMC entre dois ou mais números é o menor múltiplo positivo que é divisível por todos os números considerados. Na prática, o MMC é utilizado para encontrar um intervalo comum em situações que envolvem ciclos repetidos, como no caso de tomar remédios em intervalos regulares.\n",
    "\n",
    "#### Como a Questão Aborda o Tema\n",
    "O problema apresenta três remédios que devem ser tomados em diferentes intervalos de tempo: 4, 6 e 8 horas. A questão pergunta em quanto tempo Gustavo tomará os três remédios juntos novamente, após a primeira vez. Para responder a isso, é necessário aplicar o conceito de MMC para encontrar o menor tempo comum em que todos os remédios coincidem.\n",
    "\n",
    "#### Conhecimentos Necessários\n",
    "Para resolver essa questão, é preciso entender:\n",
    "- O que é Mínimo Múltiplo Comum (MMC);\n",
    "- Como calcular o MMC entre dois ou mais números;\n",
    "- Como o MMC pode ser aplicado em situações práticas, como ciclos de eventos repetitivos.\n",
    "\n",
    "#### Justificativa da Resposta Correta\n",
    "A resposta correta é 24 horas. Isso ocorre porque 24 é o menor múltiplo que é divisível por 4, 6 e 8, o que significa que, após 24 horas, Gustavo tomará os três remédios juntos novamente.\n",
    "\n",
    "#### Passo a Passo da Resolução\n",
    "\n",
    "1. **Identificação dos Intervalos**:\n",
    "   - Primeiro remédio: 4 horas\n",
    "   - Segundo remédio: 6 horas\n",
    "   - Terceiro remédio: 8 horas\n",
    "\n",
    "2. **Cálculo do MMC**:\n",
    "   - Para encontrar o MMC de 4, 6 e 8, podemos calcular o MMC de dois números de cada vez:\n",
    "     - MMC(4, 6):\n",
    "       - Fatoração de 4 = 2^2\n",
    "       - Fatoração de 6 = 2 * 3\n",
    "       - MMC(4, 6) = 2^2 * 3 = 12\n",
    "     - Agora, calculamos o MMC entre 12 (resultado anterior) e 8:\n",
    "       - Fatoração de 8 = 2^3\n",
    "       - MMC(12, 8) = 2^3 * 3 = 24\n",
    "\n",
    "3. **Conclusão**:\n",
    "   - O MMC de 4, 6 e 8 é 24. Isso significa que, após 24 horas, Gustavo precisará tomar os três remédios juntos novamente.\n",
    "\n",
    "Essa é a solução detalhada e correta para o problema."
   ]
  },
  {
   "cell_type": "code",
   "execution_count": null,
   "metadata": {
    "application/vnd.databricks.v1+cell": {
     "cellMetadata": {
      "byteLimit": 2048000,
      "rowLimit": 10000
     },
     "inputWidgets": {},
     "nuid": "b58d245e-8533-4ca0-8f4b-48282f7a59e0",
     "showTitle": false,
     "title": ""
    }
   },
   "outputs": [
    {
     "name": "stdout",
     "output_type": "stream",
     "text": [
      "\u001b[43mNote: you may need to restart the kernel using dbutils.library.restartPython() to use updated packages.\u001b[0m\n",
      "Requirement already satisfied: openai in /local_disk0/.ephemeral_nfs/cluster_libraries/python/lib/python3.10/site-packages (1.42.0)\n",
      "Requirement already satisfied: pydantic<3,>=1.9.0 in /databricks/python3/lib/python3.10/site-packages (from openai) (1.10.6)\n",
      "Requirement already satisfied: distro<2,>=1.7.0 in /usr/lib/python3/dist-packages (from openai) (1.7.0)\n",
      "Requirement already satisfied: tqdm>4 in /local_disk0/.ephemeral_nfs/cluster_libraries/python/lib/python3.10/site-packages (from openai) (4.66.5)\n",
      "Requirement already satisfied: jiter<1,>=0.4.0 in /local_disk0/.ephemeral_nfs/cluster_libraries/python/lib/python3.10/site-packages (from openai) (0.5.0)\n",
      "Requirement already satisfied: httpx<1,>=0.23.0 in /local_disk0/.ephemeral_nfs/cluster_libraries/python/lib/python3.10/site-packages (from openai) (0.27.2)\n",
      "Requirement already satisfied: sniffio in /local_disk0/.ephemeral_nfs/cluster_libraries/python/lib/python3.10/site-packages (from openai) (1.3.1)\n",
      "Requirement already satisfied: anyio<5,>=3.5.0 in /local_disk0/.ephemeral_nfs/cluster_libraries/python/lib/python3.10/site-packages (from openai) (4.4.0)\n",
      "Requirement already satisfied: typing-extensions<5,>=4.11 in /local_disk0/.ephemeral_nfs/cluster_libraries/python/lib/python3.10/site-packages (from openai) (4.12.2)\n",
      "Requirement already satisfied: exceptiongroup>=1.0.2 in /local_disk0/.ephemeral_nfs/cluster_libraries/python/lib/python3.10/site-packages (from anyio<5,>=3.5.0->openai) (1.2.2)\n",
      "Requirement already satisfied: idna>=2.8 in /databricks/python3/lib/python3.10/site-packages (from anyio<5,>=3.5.0->openai) (3.3)\n",
      "Requirement already satisfied: httpcore==1.* in /local_disk0/.ephemeral_nfs/cluster_libraries/python/lib/python3.10/site-packages (from httpx<1,>=0.23.0->openai) (1.0.5)\n",
      "Requirement already satisfied: certifi in /databricks/python3/lib/python3.10/site-packages (from httpx<1,>=0.23.0->openai) (2022.9.14)\n",
      "Requirement already satisfied: h11<0.15,>=0.13 in /local_disk0/.ephemeral_nfs/cluster_libraries/python/lib/python3.10/site-packages (from httpcore==1.*->httpx<1,>=0.23.0->openai) (0.14.0)\n",
      "\u001b[43mNote: you may need to restart the kernel using dbutils.library.restartPython() to use updated packages.\u001b[0m\n"
     ]
    }
   ],
   "source": [
    "pip install openai"
   ]
  },
  {
   "cell_type": "code",
   "execution_count": null,
   "metadata": {
    "application/vnd.databricks.v1+cell": {
     "cellMetadata": {
      "byteLimit": 2048000,
      "rowLimit": 10000
     },
     "inputWidgets": {},
     "nuid": "7ad96c48-9148-405b-a1af-2d113e83d858",
     "showTitle": false,
     "title": ""
    }
   },
   "outputs": [],
   "source": [
    "import numpy as np\n",
    "import pandas as pd\n",
    "from bs4 import BeautifulSoup\n",
    "import requests\n",
    "import json\n",
    "from io import BytesIO\n",
    "from sqlalchemy import create_engine\n",
    "import boto3\n",
    "import datetime\n",
    "import time\n",
    "from html import unescape\n",
    "import uuid\n",
    "from datetime import datetime, timedelta\n",
    "import random\n",
    "from openai import OpenAI"
   ]
  },
  {
   "cell_type": "code",
   "execution_count": null,
   "metadata": {
    "application/vnd.databricks.v1+cell": {
     "cellMetadata": {
      "byteLimit": 2048000,
      "rowLimit": 10000
     },
     "inputWidgets": {},
     "nuid": "57e96851-f46a-4223-b35c-eb6b382dad1f",
     "showTitle": false,
     "title": ""
    }
   },
   "outputs": [],
   "source": []
  },
  {
   "cell_type": "code",
   "execution_count": null,
   "metadata": {
    "application/vnd.databricks.v1+cell": {
     "cellMetadata": {
      "byteLimit": 2048000,
      "rowLimit": 10000
     },
     "inputWidgets": {},
     "nuid": "3ad470c0-c99e-4a3b-8d5a-e724e38585c5",
     "showTitle": false,
     "title": ""
    }
   },
   "outputs": [],
   "source": [
    "# Configuração inicial do assistente\n",
    "assistant = client.beta.assistants.create(\n",
    "    name=\"Math Tutor\",\n",
    "    instructions=f'''\n",
    "    Você é um especialista em Matemática com ampla experiência em escrever códigos Python utilizando as melhores práticas. Sua tarefa é fornecer soluções detalhadas e explicações claras, bem documentadas em formato json. Seu papel é guiar o aluno para uma compreensão profunda do tema abordado e da resposta correta, através de explicações detalhadas e passo a passo. Você interage com o aluno de forma educada e gentil, evitando repetir o enunciado da questão. Suas respostas são elaboradas para facilitar o entendimento integral do assunto em discussão. Com sua experiência, você fornece uma aprendizagem que verdadeiramente dialoga com as necessidades do aluno.\n",
    "    ''',\n",
    "    tools=[{\"type\": \"code_interpreter\"}],\n",
    "    model=\"gpt-4o\",\n",
    ")"
   ]
  },
  {
   "cell_type": "code",
   "execution_count": null,
   "metadata": {
    "application/vnd.databricks.v1+cell": {
     "cellMetadata": {
      "byteLimit": 2048000,
      "rowLimit": 10000
     },
     "inputWidgets": {},
     "nuid": "5f30c701-badd-42a0-a54b-4b0138edfeb2",
     "showTitle": false,
     "title": ""
    }
   },
   "outputs": [],
   "source": [
    "thread = client.beta.threads.create()"
   ]
  },
  {
   "cell_type": "code",
   "execution_count": null,
   "metadata": {
    "application/vnd.databricks.v1+cell": {
     "cellMetadata": {
      "byteLimit": 2048000,
      "rowLimit": 10000
     },
     "inputWidgets": {},
     "nuid": "9e10ded0-efa6-4f74-b935-6b1ba0fdbebd",
     "showTitle": false,
     "title": ""
    }
   },
   "outputs": [],
   "source": [
    "question = f'''Gustavo está fazendo um tratamento de saúde e deve tomar 3 tipos diferentes de remédios. O primeiro remédio deve ser tomado de 4 em 4 horas, o segundo de 6 em 6 horas e o terceiro de 8 em 8 horas. Se Gustavo tomar os três remédios juntos, em quantas horas irá tomar os três juntos novamente?'''"
   ]
  },
  {
   "cell_type": "code",
   "execution_count": null,
   "metadata": {
    "application/vnd.databricks.v1+cell": {
     "cellMetadata": {
      "byteLimit": 2048000,
      "rowLimit": 10000
     },
     "inputWidgets": {},
     "nuid": "d09ba793-5921-47dc-bee3-84766c45b8fb",
     "showTitle": false,
     "title": ""
    }
   },
   "outputs": [],
   "source": [
    "message = client.beta.threads.messages.create(\n",
    "  thread_id=thread.id,\n",
    "  role='user',\n",
    "  content=question\n",
    ")"
   ]
  },
  {
   "cell_type": "code",
   "execution_count": null,
   "metadata": {
    "application/vnd.databricks.v1+cell": {
     "cellMetadata": {
      "byteLimit": 2048000,
      "rowLimit": 10000
     },
     "inputWidgets": {},
     "nuid": "45e001fc-72ff-40d1-b3e1-9817cc85d086",
     "showTitle": false,
     "title": ""
    }
   },
   "outputs": [
    {
     "name": "stdout",
     "output_type": "stream",
     "text": [
      "{\n",
      "  \"id\": \"msg_ygDvHkI6mvV9fF0vYsmL2os3\",\n",
      "  \"assistant_id\": null,\n",
      "  \"attachments\": [],\n",
      "  \"content\": [\n",
      "    {\n",
      "      \"text\": {\n",
      "        \"annotations\": [],\n",
      "        \"value\": \"Gustavo est\\u00e1 fazendo um tratamento de sa\\u00fade e deve tomar 3 tipos diferentes de rem\\u00e9dios. O primeiro rem\\u00e9dio deve ser tomado de 4 em 4 horas, o segundo de 6 em 6 horas e o terceiro de 8 em 8 horas. Se Gustavo tomar os tr\\u00eas rem\\u00e9dios juntos, em quantas horas ir\\u00e1 tomar os tr\\u00eas juntos novamente?\"\n",
      "      },\n",
      "      \"type\": \"text\"\n",
      "    }\n",
      "  ],\n",
      "  \"created_at\": 1724884275,\n",
      "  \"metadata\": {},\n",
      "  \"object\": \"thread.message\",\n",
      "  \"role\": \"user\",\n",
      "  \"run_id\": null,\n",
      "  \"thread_id\": \"thread_Ko5f5uyV8tkEjuf1O0XQrc3i\"\n",
      "}\n"
     ]
    }
   ],
   "source": [
    "print(message.to_json())"
   ]
  },
  {
   "cell_type": "code",
   "execution_count": null,
   "metadata": {
    "application/vnd.databricks.v1+cell": {
     "cellMetadata": {
      "byteLimit": 2048000,
      "rowLimit": 10000
     },
     "inputWidgets": {},
     "nuid": "27eb6d23-31ee-4aa5-8140-1327bcceacad",
     "showTitle": false,
     "title": ""
    }
   },
   "outputs": [
    {
     "name": "stdout",
     "output_type": "stream",
     "text": [
      "completed\n"
     ]
    }
   ],
   "source": [
    "# Etapa 2: Gerar Código Python\n",
    "run_generate_code = client.beta.threads.runs.create(\n",
    "    thread_id=thread.id,\n",
    "    assistant_id=assistant.id,\n",
    "    instructions=f\"\"\"Escreva um código em Python para resolver a questão apresentada. Responda apenas com o código gerado, começando com \"```python\".\"\"\",\n",
    ")\n",
    "# Esperar a conclusão da execução\n",
    "while run_generate_code.status in [\"queued\", \"in_progress\", \"cancelling\"]:\n",
    "    time.sleep(1)\n",
    "    run_generate_code = client.beta.threads.runs.retrieve(\n",
    "        thread_id=thread.id, run_id=run_generate_code.id\n",
    "    )\n",
    "print(run_generate_code.status)  # 'completed'\n",
    "\n",
    "f = \"\"\n",
    "if run_generate_code.status == \"completed\":\n",
    "    mensagens = client.beta.threads.messages.list(thread_id=thread.id)\n",
    "    for msg in mensagens:\n",
    "        if hasattr(msg, \"content\"):\n",
    "            if isinstance(msg.content, list):\n",
    "                for content_block in msg.content:\n",
    "                    if \"```python\" in content_block.text.value:\n",
    "                        python_code = content_block.text.value.split(\"```python\")[\n",
    "                            1\n",
    "                        ].split(\"```\")[0]\n",
    "                        break\n",
    "            elif \"```python\" in msg.content:\n",
    "                python_code = msg.content.split(\"```python\")[1].split(\"```\")[0]\n",
    "                break\n",
    "else:\n",
    "    print(\"Erro\", run_generate_code.status)"
   ]
  },
  {
   "cell_type": "code",
   "execution_count": null,
   "metadata": {
    "application/vnd.databricks.v1+cell": {
     "cellMetadata": {
      "byteLimit": 2048000,
      "rowLimit": 10000
     },
     "inputWidgets": {},
     "nuid": "5c2a5664-daea-49fb-ae6c-715c98d7937c",
     "showTitle": false,
     "title": ""
    }
   },
   "outputs": [
    {
     "name": "stdout",
     "output_type": "stream",
     "text": [
      "\n",
      "import math\n",
      "\n",
      "# Função para calcular o mínimo múltiplo comum (MMC)\n",
      "def lcm(a, b):\n",
      "    return abs(a*b) // math.gcd(a, b)\n",
      "\n",
      "# Horas de intervalo para cada remédio\n",
      "intervals = [4, 6, 8]\n",
      "\n",
      "# Calcula o MMC para os três intervalos\n",
      "lcm_val = lcm(intervals[0], lcm(intervals[1], intervals[2]))\n",
      "\n",
      "print(f\"Gustavo irá tomar os três remédios juntos novamente em {lcm_val} horas.\")\n",
      "\n"
     ]
    }
   ],
   "source": [
    "print(python_code)"
   ]
  },
  {
   "cell_type": "code",
   "execution_count": null,
   "metadata": {
    "application/vnd.databricks.v1+cell": {
     "cellMetadata": {
      "byteLimit": 2048000,
      "rowLimit": 10000
     },
     "inputWidgets": {},
     "nuid": "6c3241ec-ea0b-4872-a1f3-83606433e929",
     "showTitle": false,
     "title": ""
    }
   },
   "outputs": [
    {
     "name": "stdout",
     "output_type": "stream",
     "text": [
      "completed\n"
     ]
    }
   ],
   "source": [
    "# Etapa 3: Executar Código Python\n",
    "run_execute_code = client.beta.threads.runs.create(\n",
    "  thread_id=thread.id,\n",
    "  assistant_id=assistant.id,\n",
    "  instructions=f'''Execute o código Python gerado anteriormente.'''\n",
    ")\n",
    "\n",
    "# Esperar a conclusão da execução\n",
    "while run_execute_code.status in ['queued', 'in_progress', 'cancelling']:\n",
    "  time.sleep(1)\n",
    "  run_execute_code = client.beta.threads.runs.retrieve(\n",
    "      thread_id=thread.id,\n",
    "      run_id=run_execute_code.id\n",
    "  )\n",
    "print(run_execute_code.status)  # 'completed'\n",
    "\n",
    "resultado_execucao = \"\"\n",
    "if run_execute_code.status == 'completed':\n",
    "  mensagens = client.beta.threads.messages.list(\n",
    "      thread_id=thread.id\n",
    "  )\n",
    "  for msg in mensagens:\n",
    "      if hasattr(msg, 'content'):\n",
    "          if isinstance(msg.content, list):\n",
    "              for content_block in msg.content:\n",
    "                  resultado_execucao += content_block.text.value + \"\\n\"\n",
    "          else:\n",
    "              resultado_execucao += msg.content + \"\\n\"\n",
    "else:\n",
    "    print('Erro', run_execute_code.status)"
   ]
  },
  {
   "cell_type": "code",
   "execution_count": null,
   "metadata": {
    "application/vnd.databricks.v1+cell": {
     "cellMetadata": {
      "byteLimit": 2048000,
      "rowLimit": 10000
     },
     "inputWidgets": {},
     "nuid": "12517a48-8167-4cfb-8aca-e4a5b343c490",
     "showTitle": false,
     "title": ""
    }
   },
   "outputs": [
    {
     "name": "stdout",
     "output_type": "stream",
     "text": [
      "Gustavo irá tomar os três remédios juntos novamente em 24 horas.\n",
      "```python\n",
      "import math\n",
      "\n",
      "# Função para calcular o mínimo múltiplo comum (MMC)\n",
      "def lcm(a, b):\n",
      "    return abs(a*b) // math.gcd(a, b)\n",
      "\n",
      "# Horas de intervalo para cada remédio\n",
      "intervals = [4, 6, 8]\n",
      "\n",
      "# Calcula o MMC para os três intervalos\n",
      "lcm_val = lcm(intervals[0], lcm(intervals[1], intervals[2]))\n",
      "\n",
      "print(f\"Gustavo irá tomar os três remédios juntos novamente em {lcm_val} horas.\")\n",
      "```python\n",
      "Gustavo está fazendo um tratamento de saúde e deve tomar 3 tipos diferentes de remédios. O primeiro remédio deve ser tomado de 4 em 4 horas, o segundo de 6 em 6 horas e o terceiro de 8 em 8 horas. Se Gustavo tomar os três remédios juntos, em quantas horas irá tomar os três juntos novamente?\n",
      "\n"
     ]
    }
   ],
   "source": [
    "print(resultado_execucao)"
   ]
  },
  {
   "cell_type": "code",
   "execution_count": null,
   "metadata": {
    "application/vnd.databricks.v1+cell": {
     "cellMetadata": {
      "byteLimit": 2048000,
      "rowLimit": 10000
     },
     "inputWidgets": {},
     "nuid": "520ab2e1-e3f0-4d42-8783-0c5e34eed895",
     "showTitle": false,
     "title": ""
    }
   },
   "outputs": [],
   "source": [
    "official_answer_key = \"24.\""
   ]
  },
  {
   "cell_type": "code",
   "execution_count": null,
   "metadata": {
    "application/vnd.databricks.v1+cell": {
     "cellMetadata": {
      "byteLimit": 2048000,
      "rowLimit": 10000
     },
     "inputWidgets": {},
     "nuid": "c2e8c6b9-3bc1-4f73-a285-0ebf6ccc24a3",
     "showTitle": false,
     "title": ""
    }
   },
   "outputs": [
    {
     "name": "stdout",
     "output_type": "stream",
     "text": [
      "completed\n"
     ]
    }
   ],
   "source": [
    "# Etapa 4: Comparar com Gabarito Oficial\n",
    "message_gabarito = client.beta.threads.messages.create(\n",
    "  thread_id=thread.id,\n",
    "  role='user',\n",
    "  content=f\"Resposta oficial: {official_answer_key}\"\n",
    ")\n",
    "\n",
    "run_compare = client.beta.threads.runs.create(\n",
    "  thread_id=thread.id,\n",
    "  assistant_id=assistant.id,\n",
    "  instructions = f'''Compare o resultado do código Python com o resultado do gabarito oficial. \n",
    "  O resultado encontrado pelo código python é suficiente para chegar na resposta do gabarito oficial?\n",
    "  Responda somente com \"SIM\"ou \"NAO\".'''\n",
    ")\n",
    "\n",
    "# Esperar a conclusão da execução\n",
    "while run_compare.status in ['queued', 'in_progress', 'cancelling']:\n",
    "  time.sleep(1)\n",
    "  run_compare = client.beta.threads.runs.retrieve(\n",
    "      thread_id=thread.id,\n",
    "      run_id=run_compare.id\n",
    "  )\n",
    "print(run_compare.status)  # 'completed'\n",
    "\n",
    "comparacao_gabarito = \"\"\n",
    "if run_compare.status == 'completed':\n",
    "  mensagens = client.beta.threads.messages.list(\n",
    "      thread_id=thread.id\n",
    "  )\n",
    "  for msg in mensagens:\n",
    "    if hasattr(msg, 'content'):\n",
    "      if isinstance(msg.content, list):\n",
    "        for content_block in msg.content:\n",
    "            comparacao_gabarito += content_block.text.value + \"\\n\"\n",
    "      else:\n",
    "          comparacao_gabarito += msg.content + \"\\n\"\n",
    "else:\n",
    "    print('Erro', run_compare.status)"
   ]
  },
  {
   "cell_type": "code",
   "execution_count": null,
   "metadata": {
    "application/vnd.databricks.v1+cell": {
     "cellMetadata": {
      "byteLimit": 2048000,
      "rowLimit": 10000
     },
     "inputWidgets": {},
     "nuid": "063bb2da-8dbd-4714-9402-7140bb151c1d",
     "showTitle": false,
     "title": ""
    }
   },
   "outputs": [
    {
     "name": "stdout",
     "output_type": "stream",
     "text": [
      "completed\n"
     ]
    }
   ],
   "source": [
    "# Etapa 5: Escrever Gabarito Comentado\n",
    "respostas = []\n",
    "\n",
    "run_write_gabarito = client.beta.threads.runs.create(\n",
    "    thread_id=thread.id,\n",
    "    assistant_id=assistant.id,\n",
    "    instructions = f'''Se a resposta anterior for NÃO, responda apenas com FIM. Caso contrário, escreva um gabarito comentado sobre a questão seguindo os passos abaixo:\n",
    "\n",
    "        Explique o tema da questão, como ela aborda o tema e os conhecimentos necessários para resolvê-la.\n",
    "        Justifique a resposta correta.\n",
    "        Comece sua mensagem deixando claro qual é a resposta correta e depois desenvolva e explique a questão.\n",
    "        Mostre o passo a passo de como resolver matemáticamente o problema.\n",
    "        Aguarde instruções de formatação da resposta.'''\n",
    ")\n",
    "\n",
    "# Esperar a conclusão da execução\n",
    "while run_write_gabarito.status in ['queued', 'in_progress', 'cancelling']:\n",
    "    time.sleep(1)\n",
    "    run_write_gabarito = client.beta.threads.runs.retrieve(\n",
    "        thread_id=thread.id,\n",
    "        run_id=run_write_gabarito.id\n",
    "    )\n",
    "print(run_write_gabarito.status)  # 'completed'\n",
    "\n",
    "gabarito_comentado = \"\"\n",
    "if run_write_gabarito.status == 'completed':\n",
    "    mensagens = client.beta.threads.messages.list(\n",
    "        thread_id=thread.id\n",
    "    )\n",
    "    for msg in mensagens:\n",
    "        respostas.append(msg.content[0].text.value)\n",
    "        if hasattr(msg, 'content'):\n",
    "            if isinstance(msg.content, list):\n",
    "                for content_block in msg.content:\n",
    "                    gabarito_comentado += content_block.text.value + \"\\n\"\n",
    "            else:\n",
    "                gabarito_comentado += msg.content + \"\\n\"\n",
    "else:\n",
    "    print('Erro', run_write_gabarito.status)\n",
    "\n"
   ]
  },
  {
   "cell_type": "code",
   "execution_count": null,
   "metadata": {
    "application/vnd.databricks.v1+cell": {
     "cellMetadata": {
      "byteLimit": 2048000,
      "rowLimit": 10000
     },
     "inputWidgets": {},
     "nuid": "38500b2c-e1df-4d81-afb0-97bd586d53d7",
     "showTitle": false,
     "title": ""
    },
    "jupyter": {
     "outputs_hidden": true
    }
   },
   "outputs": [
    {
     "name": "stdout",
     "output_type": "stream",
     "text": [
      "### Gabarito Comentado\n",
      "\n",
      "**Tema da Questão: Mínimo Múltiplo Comum (MMC)**\n",
      "\n",
      "**Como a questão aborda o tema:**\n",
      "Essa questão envolve o cálculo do tempo em que três eventos com diferentes intervalos ocorrerão simultaneamente novamente. No contexto dado, precisamos calcular o mínimo múltiplo comum (MMC) dos intervalos dos três remédios.\n",
      "\n",
      "**Conhecimentos necessários:**\n",
      "Para resolver essa questão, você precisa ter um entendimento básico de:\n",
      "\n",
      "1. Fatoração de números.\n",
      "2. Mínimo múltiplo comum (MMC).\n",
      "3. Algoritmo de cálculo do MMC, que está associado ao máximo divisor comum (MDC).\n",
      "\n",
      "---\n",
      "\n",
      "**Resposta Correta: 24**\n",
      "\n",
      "**Passo a Passo para Resolver:**\n",
      "\n",
      "1. **Identificar os intervalos:**\n",
      "    - Remédio 1: 4 em 4 horas.\n",
      "    - Remédio 2: 6 em 6 horas.\n",
      "    - Remédio 3: 8 em 8 horas.\n",
      "\n",
      "2. **Cálculo do MMC:**\n",
      "   - Precisamos encontrar o mínimo múltiplo comum dos números 4, 6 e 8.\n",
      "\n",
      "3. **Decomposição em fatores primos:**\n",
      "   - 4 = 2²\n",
      "   - 6 = 2 × 3\n",
      "   - 8 = 2³\n",
      "\n",
      "4. **Calcular o MMC considerando os maiores expoentes para cada fator primo:**\n",
      "   - Para o fator primo 2, o maior expoente é 3.\n",
      "   - Para o fator primo 3, o maior expoente é 1.\n",
      "   \n",
      "   Portanto, o MMC será: \n",
      "   \\( MMC = 2³ × 3 = 8 × 3 = 24 \\)\n",
      "\n",
      "---\n",
      "\n",
      "**Justificativa:**\n",
      "\n",
      "O MMC dos intervalos 4, 6, e 8 é 24. Portanto, Gustavo tomará os três remédios juntos novamente em 24 horas. O cálculo deste valor pode ser verificado por:\n",
      "\n",
      "- Múltiplos de 4: 4, 8, 12, 16, 20, 24, ...\n",
      "- Múltiplos de 6: 6, 12, 18, 24, ...\n",
      "- Múltiplos de 8: 8, 16, 24, ...\n",
      "\n",
      "O primeiro múltiplo comum entre os três conjuntos é 24.\n",
      "\n",
      "---\n",
      "\n",
      "**Conclusão:**\n",
      "Gustavo tomará os três remédios juntos novamente em 24 horas.\n",
      "SIM\n",
      "Resposta oficial: 24.\n",
      "Gustavo irá tomar os três remédios juntos novamente em 24 horas.\n",
      "```python\n",
      "import math\n",
      "\n",
      "# Função para calcular o mínimo múltiplo comum (MMC)\n",
      "def lcm(a, b):\n",
      "    return abs(a*b) // math.gcd(a, b)\n",
      "\n",
      "# Horas de intervalo para cada remédio\n",
      "intervals = [4, 6, 8]\n",
      "\n",
      "# Calcula o MMC para os três intervalos\n",
      "lcm_val = lcm(intervals[0], lcm(intervals[1], intervals[2]))\n",
      "\n",
      "print(f\"Gustavo irá tomar os três remédios juntos novamente em {lcm_val} horas.\")\n",
      "```python\n",
      "Gustavo está fazendo um tratamento de saúde e deve tomar 3 tipos diferentes de remédios. O primeiro remédio deve ser tomado de 4 em 4 horas, o segundo de 6 em 6 horas e o terceiro de 8 em 8 horas. Se Gustavo tomar os três remédios juntos, em quantas horas irá tomar os três juntos novamente?\n",
      "\n"
     ]
    }
   ],
   "source": [
    "print(gabarito_comentado)"
   ]
  },
  {
   "cell_type": "code",
   "execution_count": null,
   "metadata": {
    "application/vnd.databricks.v1+cell": {
     "cellMetadata": {
      "byteLimit": 2048000,
      "rowLimit": 10000
     },
     "inputWidgets": {},
     "nuid": "0ae4a75d-ce08-4f1a-8382-6281e96ee8b3",
     "showTitle": false,
     "title": ""
    }
   },
   "outputs": [
    {
     "name": "stdout",
     "output_type": "stream",
     "text": [
      "completed\n"
     ]
    }
   ],
   "source": [
    "# Etapa 6: Geração de gabarito comentado com HTML\n",
    "run_html_gabarito = client.beta.threads.runs.create(\n",
    "        thread_id=thread.id,\n",
    "        assistant_id=assistant.id,\n",
    "        instructions = '''\n",
    "\"Reescreva o texto acima em HTML. Use negrito e cores (laranja escuro ou azul escuro) para destacar fórmulas e conceitos importantes. Para as fórmulas matemáticas, utilize a tag <math> e suas subtags apropriadas. Não utilize a tag <h1>. Use apenas HTML e CSS, sem markdown ou outras marcações. Utilize a tag <p> para quebras de parágrafo e certifique-se de que as fórmulas matemáticas estejam claras e bem formatadas. O resultado final deve ser uma string em formato JSON, sem utilizar \\n para quebra de linha.\n",
    "\n",
    "Exemplo:\n",
    "Entrada: \"A fórmula de Bhaskara é x = (-b ± √(b² - 4ac)) / 2a.\"\n",
    "\n",
    "Saída:\n",
    "\"<p>A fórmula de Bhaskara é <math><mrow><mi>x</mi><mo>=</mo><mo>-</mo><mi>b</mi><mo>\"\n",
    "'''\n",
    "\n",
    "\n",
    "    )\n",
    "\n",
    "# Esperar a conclusão da execução\n",
    "while run_html_gabarito.status in ['queued', 'in_progress', 'cancelling']:\n",
    "    time.sleep(1)\n",
    "    run_html_gabarito = client.beta.threads.runs.retrieve(\n",
    "        thread_id=thread.id,\n",
    "        run_id=run_html_gabarito.id\n",
    "    )\n",
    "print(run_html_gabarito.status)  # 'completed'\n",
    "\n",
    "gabarito_html = \"\"\n",
    "if run_html_gabarito.status == 'completed':\n",
    "    mensagens = client.beta.threads.messages.list(\n",
    "        thread_id=thread.id\n",
    "    )\n",
    "    for msg in mensagens:\n",
    "        if hasattr(msg, 'content'):\n",
    "            if isinstance(msg.content, list):\n",
    "                for content_block in msg.content:\n",
    "                    gabarito_html += content_block.text.value + \"\\n\"\n",
    "            else:\n",
    "                gabarito_html += msg.content + \"\\n\"\n",
    "else:\n",
    "    print('Erro', run_html_gabarito.status)"
   ]
  },
  {
   "cell_type": "code",
   "execution_count": null,
   "metadata": {
    "application/vnd.databricks.v1+cell": {
     "cellMetadata": {
      "byteLimit": 2048000,
      "rowLimit": 10000
     },
     "inputWidgets": {},
     "nuid": "e3f0b1e8-fae0-4f69-bf7a-eb6fb505eeef",
     "showTitle": false,
     "title": ""
    }
   },
   "outputs": [
    {
     "name": "stdout",
     "output_type": "stream",
     "text": [
      "```json\n",
      "{\n",
      "    \"html\": \"<p>Gustavo está fazendo um tratamento de saúde e deve tomar 3 tipos diferentes de remédios. O primeiro remédio deve ser tomado de 4 em 4 horas, o segundo de 6 em 6 horas e o terceiro de 8 em 8 horas. Se Gustavo tomar os três remédios juntos, em quantas horas irá tomar os três juntos novamente?</p> <p><b>Resposta:</b> 24 horas.</p> <p> <b>Tema da Questão:</b> <span style='color:darkorange;'>Mínimo Múltiplo Comum (MMC)</span> </p> <p> <b>Como a questão aborda o tema:</b><br> Essa questão envolve o cálculo do tempo em que três eventos com diferentes intervalos ocorrerão simultaneamente novamente. No contexto dado, precisamos calcular o <span style='color:darkorange;'><math><mo>Mínimo Múltiplo Comum (MMC)</mo></math></span> dos intervalos dos três remédios.</p> <p> <b>Conhecimentos necessários:</b> Para resolver essa questão, você precisa ter um entendimento básico de: <ul> <li>Fatoração de números.</li> <li>Mínimo múltiplo comum (MMC).</li> <li>Algoritmo de cálculo do MMC, que está associado ao máximo divisor comum (MDC).</li> </ul> </p> <p> <b>Resposta Correta:</b> 24</p> <p> <b>Passo a Passo para Resolver:</b><br> 1. <b>Identificar os intervalos:</b> - Remédio 1: de <span style='color:darkblue;'>4 em 4 horas</span>. - Remédio 2: de <span style='color:darkblue;'>6 em 6 horas</span>. - Remédio 3: de <span style='color:darkblue;'>8 em 8 horas</span>. <br> 2. <b>Cálculo do MMC:</b> - Precisamos encontrar o mínimo múltiplo comum dos números 4, 6 e 8. <br> 3. <b>Decomposição em fatores primos:</b> - 4 = 2² - 6 = 2 × 3 - 8 = 2³ <br> 4. <b>Calcular o MMC considerando os maiores expoentes para cada fator primo:</b> - Para o fator primo 2, o maior expoente é 3. - Para o fator primo 3, o maior expoente é 1. <br> Portanto, o <span style='color:darkorange;'><b>MMC</b></span> será: <math><mrow><msup><mn>2</mn><mn>3</mn></msup><mo>×</mo><mn>3</mn><mo>=</mo><mn>8</mn><mo>×</mo><mn>3</mn><mo>=</mo><mn>24</mn></mrow></math> </p> <p> <b>Justificativa:</b> O MMC dos intervalos 4, 6, e 8 é 24. Portanto, Gustavo tomará os três remédios juntos novamente em 24 horas. O cálculo deste valor pode ser verificado por: - Múltiplos de 4: 4, 8, 12, 16, 20, 24, ... - Múltiplos de 6: 6, 12, 18, 24, ... - Múltiplos de 8: 8, 16, 24, ... <br><br> O primeiro múltiplo comum entre os três conjuntos é 24. </p> <p> <b>Conclusão:</b> Gustavo tomará os três remédios juntos novamente em <span style='color:darkorange;'><b>24 horas</b></span>. </p>\"\n",
      "}\n",
      "```\n",
      "### Gabarito Comentado\n",
      "\n",
      "**Tema da Questão: Mínimo Múltiplo Comum (MMC)**\n",
      "\n",
      "**Como a questão aborda o tema:**\n",
      "Essa questão envolve o cálculo do tempo em que três eventos com diferentes intervalos ocorrerão simultaneamente novamente. No contexto dado, precisamos calcular o mínimo múltiplo comum (MMC) dos intervalos dos três remédios.\n",
      "\n",
      "**Conhecimentos necessários:**\n",
      "Para resolver essa questão, você precisa ter um entendimento básico de:\n",
      "\n",
      "1. Fatoração de números.\n",
      "2. Mínimo múltiplo comum (MMC).\n",
      "3. Algoritmo de cálculo do MMC, que está associado ao máximo divisor comum (MDC).\n",
      "\n",
      "---\n",
      "\n",
      "**Resposta Correta: 24**\n",
      "\n",
      "**Passo a Passo para Resolver:**\n",
      "\n",
      "1. **Identificar os intervalos:**\n",
      "    - Remédio 1: 4 em 4 horas.\n",
      "    - Remédio 2: 6 em 6 horas.\n",
      "    - Remédio 3: 8 em 8 horas.\n",
      "\n",
      "2. **Cálculo do MMC:**\n",
      "   - Precisamos encontrar o mínimo múltiplo comum dos números 4, 6 e 8.\n",
      "\n",
      "3. **Decomposição em fatores primos:**\n",
      "   - 4 = 2²\n",
      "   - 6 = 2 × 3\n",
      "   - 8 = 2³\n",
      "\n",
      "4. **Calcular o MMC considerando os maiores expoentes para cada fator primo:**\n",
      "   - Para o fator primo 2, o maior expoente é 3.\n",
      "   - Para o fator primo 3, o maior expoente é 1.\n",
      "   \n",
      "   Portanto, o MMC será: \n",
      "   \\( MMC = 2³ × 3 = 8 × 3 = 24 \\)\n",
      "\n",
      "---\n",
      "\n",
      "**Justificativa:**\n",
      "\n",
      "O MMC dos intervalos 4, 6, e 8 é 24. Portanto, Gustavo tomará os três remédios juntos novamente em 24 horas. O cálculo deste valor pode ser verificado por:\n",
      "\n",
      "- Múltiplos de 4: 4, 8, 12, 16, 20, 24, ...\n",
      "- Múltiplos de 6: 6, 12, 18, 24, ...\n",
      "- Múltiplos de 8: 8, 16, 24, ...\n",
      "\n",
      "O primeiro múltiplo comum entre os três conjuntos é 24.\n",
      "\n",
      "---\n",
      "\n",
      "**Conclusão:**\n",
      "Gustavo tomará os três remédios juntos novamente em 24 horas.\n",
      "SIM\n",
      "Resposta oficial: 24.\n",
      "Gustavo irá tomar os três remédios juntos novamente em 24 horas.\n",
      "```python\n",
      "import math\n",
      "\n",
      "# Função para calcular o mínimo múltiplo comum (MMC)\n",
      "def lcm(a, b):\n",
      "    return abs(a*b) // math.gcd(a, b)\n",
      "\n",
      "# Horas de intervalo para cada remédio\n",
      "intervals = [4, 6, 8]\n",
      "\n",
      "# Calcula o MMC para os três intervalos\n",
      "lcm_val = lcm(intervals[0], lcm(intervals[1], intervals[2]))\n",
      "\n",
      "print(f\"Gustavo irá tomar os três remédios juntos novamente em {lcm_val} horas.\")\n",
      "```python\n",
      "Gustavo está fazendo um tratamento de saúde e deve tomar 3 tipos diferentes de remédios. O primeiro remédio deve ser tomado de 4 em 4 horas, o segundo de 6 em 6 horas e o terceiro de 8 em 8 horas. Se Gustavo tomar os três remédios juntos, em quantas horas irá tomar os três juntos novamente?\n",
      "\n"
     ]
    }
   ],
   "source": [
    "print(gabarito_html)"
   ]
  }
 ],
 "metadata": {
  "application/vnd.databricks.v1+notebook": {
   "dashboards": [],
   "environmentMetadata": {
    "base_environment": "",
    "client": "1"
   },
   "language": "python",
   "notebookMetadata": {
    "pythonIndentUnit": 2
   },
   "notebookName": "[AI] Tests questões de exatas para o gabarito comentado",
   "widgets": {}
  },
  "language_info": {
   "name": "python"
  }
 },
 "nbformat": 4,
 "nbformat_minor": 0
}
