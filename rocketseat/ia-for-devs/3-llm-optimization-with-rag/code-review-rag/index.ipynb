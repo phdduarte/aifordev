{
 "cells": [
  {
   "cell_type": "code",
   "execution_count": 58,
   "metadata": {},
   "outputs": [],
   "source": [
    "from langchain_community.document_loaders.generic import GenericLoader\n",
    "from langchain_community.document_loaders.parsers import LanguageParser\n",
    "from langchain_text_splitters import Language, RecursiveCharacterTextSplitter\n",
    "from langchain_chroma import Chroma\n",
    "from langchain_openai import OpenAIEmbeddings, ChatOpenAI\n",
    "from langchain.chains.question_answering import load_qa_chain\n",
    "from langchain_core.prompts import ChatPromptTemplate\n",
    "from langchain.chains import create_retrieval_chain\n",
    "from langchain.chains.combine_documents import create_stuff_documents_chain\n",
    "import json\n",
    "\n",
    "import enum\n",
    "import os\n",
    "from git import Repo"
   ]
  },
  {
   "cell_type": "code",
   "execution_count": 50,
   "metadata": {},
   "outputs": [],
   "source": [
    "repo_path = \"./test_repo\""
   ]
  },
  {
   "cell_type": "code",
   "execution_count": 51,
   "metadata": {},
   "outputs": [
    {
     "ename": "GitCommandError",
     "evalue": "Cmd('git') failed due to: exit code(128)\n  cmdline: git clone -v -- https://github.com/qcx/niamh ./test_repo\n  stderr: 'fatal: destination path './test_repo' already exists and is not an empty directory.\n'",
     "output_type": "error",
     "traceback": [
      "\u001b[0;31m---------------------------------------------------------------------------\u001b[0m",
      "\u001b[0;31mGitCommandError\u001b[0m                           Traceback (most recent call last)",
      "Cell \u001b[0;32mIn[51], line 1\u001b[0m\n\u001b[0;32m----> 1\u001b[0m repo \u001b[38;5;241m=\u001b[39m \u001b[43mRepo\u001b[49m\u001b[38;5;241;43m.\u001b[39;49m\u001b[43mclone_from\u001b[49m\u001b[43m(\u001b[49m\u001b[38;5;124;43m\"\u001b[39;49m\u001b[38;5;124;43mhttps://github.com/qcx/niamh\u001b[39;49m\u001b[38;5;124;43m\"\u001b[39;49m\u001b[43m,\u001b[49m\u001b[43m \u001b[49m\u001b[43mto_path\u001b[49m\u001b[38;5;241;43m=\u001b[39;49m\u001b[43mrepo_path\u001b[49m\u001b[43m)\u001b[49m\n",
      "File \u001b[0;32m~/myenv/lib/python3.10/site-packages/git/repo/base.py:1525\u001b[0m, in \u001b[0;36mRepo.clone_from\u001b[0;34m(cls, url, to_path, progress, env, multi_options, allow_unsafe_protocols, allow_unsafe_options, **kwargs)\u001b[0m\n\u001b[1;32m   1523\u001b[0m \u001b[38;5;28;01mif\u001b[39;00m env \u001b[38;5;129;01mis\u001b[39;00m \u001b[38;5;129;01mnot\u001b[39;00m \u001b[38;5;28;01mNone\u001b[39;00m:\n\u001b[1;32m   1524\u001b[0m     git\u001b[38;5;241m.\u001b[39mupdate_environment(\u001b[38;5;241m*\u001b[39m\u001b[38;5;241m*\u001b[39menv)\n\u001b[0;32m-> 1525\u001b[0m \u001b[38;5;28;01mreturn\u001b[39;00m \u001b[38;5;28;43mcls\u001b[39;49m\u001b[38;5;241;43m.\u001b[39;49m\u001b[43m_clone\u001b[49m\u001b[43m(\u001b[49m\n\u001b[1;32m   1526\u001b[0m \u001b[43m    \u001b[49m\u001b[43mgit\u001b[49m\u001b[43m,\u001b[49m\n\u001b[1;32m   1527\u001b[0m \u001b[43m    \u001b[49m\u001b[43murl\u001b[49m\u001b[43m,\u001b[49m\n\u001b[1;32m   1528\u001b[0m \u001b[43m    \u001b[49m\u001b[43mto_path\u001b[49m\u001b[43m,\u001b[49m\n\u001b[1;32m   1529\u001b[0m \u001b[43m    \u001b[49m\u001b[43mGitCmdObjectDB\u001b[49m\u001b[43m,\u001b[49m\n\u001b[1;32m   1530\u001b[0m \u001b[43m    \u001b[49m\u001b[43mprogress\u001b[49m\u001b[43m,\u001b[49m\n\u001b[1;32m   1531\u001b[0m \u001b[43m    \u001b[49m\u001b[43mmulti_options\u001b[49m\u001b[43m,\u001b[49m\n\u001b[1;32m   1532\u001b[0m \u001b[43m    \u001b[49m\u001b[43mallow_unsafe_protocols\u001b[49m\u001b[38;5;241;43m=\u001b[39;49m\u001b[43mallow_unsafe_protocols\u001b[49m\u001b[43m,\u001b[49m\n\u001b[1;32m   1533\u001b[0m \u001b[43m    \u001b[49m\u001b[43mallow_unsafe_options\u001b[49m\u001b[38;5;241;43m=\u001b[39;49m\u001b[43mallow_unsafe_options\u001b[49m\u001b[43m,\u001b[49m\n\u001b[1;32m   1534\u001b[0m \u001b[43m    \u001b[49m\u001b[38;5;241;43m*\u001b[39;49m\u001b[38;5;241;43m*\u001b[39;49m\u001b[43mkwargs\u001b[49m\u001b[43m,\u001b[49m\n\u001b[1;32m   1535\u001b[0m \u001b[43m\u001b[49m\u001b[43m)\u001b[49m\n",
      "File \u001b[0;32m~/myenv/lib/python3.10/site-packages/git/repo/base.py:1396\u001b[0m, in \u001b[0;36mRepo._clone\u001b[0;34m(cls, git, url, path, odb_default_type, progress, multi_options, allow_unsafe_protocols, allow_unsafe_options, **kwargs)\u001b[0m\n\u001b[1;32m   1393\u001b[0m     cmdline \u001b[38;5;241m=\u001b[39m remove_password_if_present(cmdline)\n\u001b[1;32m   1395\u001b[0m     _logger\u001b[38;5;241m.\u001b[39mdebug(\u001b[38;5;124m\"\u001b[39m\u001b[38;5;124mCmd(\u001b[39m\u001b[38;5;132;01m%s\u001b[39;00m\u001b[38;5;124m)\u001b[39m\u001b[38;5;124m'\u001b[39m\u001b[38;5;124ms unused stdout: \u001b[39m\u001b[38;5;132;01m%s\u001b[39;00m\u001b[38;5;124m\"\u001b[39m, cmdline, stdout)\n\u001b[0;32m-> 1396\u001b[0m     \u001b[43mfinalize_process\u001b[49m\u001b[43m(\u001b[49m\u001b[43mproc\u001b[49m\u001b[43m,\u001b[49m\u001b[43m \u001b[49m\u001b[43mstderr\u001b[49m\u001b[38;5;241;43m=\u001b[39;49m\u001b[43mstderr\u001b[49m\u001b[43m)\u001b[49m\n\u001b[1;32m   1398\u001b[0m \u001b[38;5;66;03m# Our git command could have a different working dir than our actual\u001b[39;00m\n\u001b[1;32m   1399\u001b[0m \u001b[38;5;66;03m# environment, hence we prepend its working dir if required.\u001b[39;00m\n\u001b[1;32m   1400\u001b[0m \u001b[38;5;28;01mif\u001b[39;00m \u001b[38;5;129;01mnot\u001b[39;00m osp\u001b[38;5;241m.\u001b[39misabs(path):\n",
      "File \u001b[0;32m~/myenv/lib/python3.10/site-packages/git/util.py:504\u001b[0m, in \u001b[0;36mfinalize_process\u001b[0;34m(proc, **kwargs)\u001b[0m\n\u001b[1;32m    501\u001b[0m \u001b[38;5;250m\u001b[39m\u001b[38;5;124;03m\"\"\"Wait for the process (clone, fetch, pull or push) and handle its errors\u001b[39;00m\n\u001b[1;32m    502\u001b[0m \u001b[38;5;124;03maccordingly.\"\"\"\u001b[39;00m\n\u001b[1;32m    503\u001b[0m \u001b[38;5;66;03m# TODO: No close proc-streams??\u001b[39;00m\n\u001b[0;32m--> 504\u001b[0m \u001b[43mproc\u001b[49m\u001b[38;5;241;43m.\u001b[39;49m\u001b[43mwait\u001b[49m\u001b[43m(\u001b[49m\u001b[38;5;241;43m*\u001b[39;49m\u001b[38;5;241;43m*\u001b[39;49m\u001b[43mkwargs\u001b[49m\u001b[43m)\u001b[49m\n",
      "File \u001b[0;32m~/myenv/lib/python3.10/site-packages/git/cmd.py:834\u001b[0m, in \u001b[0;36mGit.AutoInterrupt.wait\u001b[0;34m(self, stderr)\u001b[0m\n\u001b[1;32m    832\u001b[0m     errstr \u001b[38;5;241m=\u001b[39m read_all_from_possibly_closed_stream(p_stderr)\n\u001b[1;32m    833\u001b[0m     _logger\u001b[38;5;241m.\u001b[39mdebug(\u001b[38;5;124m\"\u001b[39m\u001b[38;5;124mAutoInterrupt wait stderr: \u001b[39m\u001b[38;5;132;01m%r\u001b[39;00m\u001b[38;5;124m\"\u001b[39m \u001b[38;5;241m%\u001b[39m (errstr,))\n\u001b[0;32m--> 834\u001b[0m     \u001b[38;5;28;01mraise\u001b[39;00m GitCommandError(remove_password_if_present(\u001b[38;5;28mself\u001b[39m\u001b[38;5;241m.\u001b[39margs), status, errstr)\n\u001b[1;32m    835\u001b[0m \u001b[38;5;28;01mreturn\u001b[39;00m status\n",
      "\u001b[0;31mGitCommandError\u001b[0m: Cmd('git') failed due to: exit code(128)\n  cmdline: git clone -v -- https://github.com/qcx/niamh ./test_repo\n  stderr: 'fatal: destination path './test_repo' already exists and is not an empty directory.\n'"
     ]
    }
   ],
   "source": [
    "repo = Repo.clone_from(\"https://github.com/qcx/niamh\", to_path=repo_path)"
   ]
  },
  {
   "cell_type": "code",
   "execution_count": null,
   "metadata": {},
   "outputs": [
    {
     "name": "stdout",
     "output_type": "stream",
     "text": [
      "[<Language.CPP: 'cpp'>, <Language.GO: 'go'>, <Language.JAVA: 'java'>, <Language.KOTLIN: 'kotlin'>, <Language.JS: 'js'>, <Language.TS: 'ts'>, <Language.PHP: 'php'>, <Language.PROTO: 'proto'>, <Language.PYTHON: 'python'>, <Language.RST: 'rst'>, <Language.RUBY: 'ruby'>, <Language.RUST: 'rust'>, <Language.SCALA: 'scala'>, <Language.SWIFT: 'swift'>, <Language.MARKDOWN: 'markdown'>, <Language.LATEX: 'latex'>, <Language.HTML: 'html'>, <Language.SOL: 'sol'>, <Language.CSHARP: 'csharp'>, <Language.COBOL: 'cobol'>, <Language.C: 'c'>, <Language.LUA: 'lua'>, <Language.PERL: 'perl'>, <Language.HASKELL: 'haskell'>, <Language.ELIXIR: 'elixir'>, <Language.POWERSHELL: 'powershell'>]\n"
     ]
    }
   ],
   "source": [
    "print([member for member in Language])"
   ]
  },
  {
   "cell_type": "code",
   "execution_count": null,
   "metadata": {},
   "outputs": [
    {
     "data": {
      "text/plain": [
       "21"
      ]
     },
     "execution_count": 17,
     "metadata": {},
     "output_type": "execute_result"
    }
   ],
   "source": [
    "loader = GenericLoader.from_filesystem(\n",
    "    repo_path,\n",
    "    glob=\"**/*\",\n",
    "    suffixes=[\".ts\"],\n",
    "    exclude=[\n",
    "        \"**/moderation.ts\",\n",
    "        \"**/statistics.ts\",\n",
    "        \"**/storedFilters.ts\",\n",
    "        \"**/discursive/**\",\n",
    "        \"**/trainer/**\"\n",
    "    ],\n",
    "    parser = LanguageParser(language=Language.TS, parser_threshold=500)\n",
    ")\n",
    "\n",
    "documents = loader.load()\n",
    "len(documents)\n"
   ]
  },
  {
   "cell_type": "code",
   "execution_count": null,
   "metadata": {},
   "outputs": [
    {
     "data": {
      "text/plain": [
       "30"
      ]
     },
     "execution_count": 42,
     "metadata": {},
     "output_type": "execute_result"
    }
   ],
   "source": [
    "python_splitter = RecursiveCharacterTextSplitter.from_language(\n",
    "    language=Language.TS, chunk_size=2000, chunk_overlap=200\n",
    ")\n",
    "\n",
    "texts = python_splitter.split_documents(documents)\n",
    "len(texts)\n"
   ]
  },
  {
   "cell_type": "code",
   "execution_count": null,
   "metadata": {},
   "outputs": [],
   "source": [
    "embeddings = OpenAIEmbeddings(api_key=os.getenv('Q_API_KEY'), disallowed_special=())"
   ]
  },
  {
   "cell_type": "code",
   "execution_count": null,
   "metadata": {},
   "outputs": [],
   "source": [
    "db = Chroma.from_documents(texts, embeddings)\n",
    "\n",
    "retriver = db.as_retriever(\n",
    "    search_type=\"mmr\",\n",
    "    search_kwargs={\"k\": 8}\n",
    ")"
   ]
  },
  {
   "cell_type": "code",
   "execution_count": null,
   "metadata": {},
   "outputs": [],
   "source": [
    "llm = ChatOpenAI(\n",
    "    model_name=\"gpt-4o-mini\",\n",
    "    max_tokens=1000,\n",
    "    openai_api_key=os.getenv('Q_API_KEY')\n",
    ")"
   ]
  },
  {
   "cell_type": "markdown",
   "metadata": {},
   "source": []
  },
  {
   "cell_type": "code",
   "execution_count": 70,
   "metadata": {},
   "outputs": [],
   "source": [
    "prompt = ChatPromptTemplate.from_messages(\n",
    "    [\n",
    "        (\n",
    "            \"system\",\n",
    "            \"Você é um revisor de código experiente. Forneça informações detalhadas sobre a revisão do código e sugestões de melhorias baseado\"\n",
    "        ),\n",
    "        (\"user\", \"{context}\")\n",
    "    ]\n",
    ")\n",
    "\n",
    "document_chain = create_stuff_documents_chain(llm, prompt)\n",
    "\n",
    "retrieval_chain = create_retrieval_chain(retriver, document_chain)\n"
   ]
  },
  {
   "cell_type": "code",
   "execution_count": 71,
   "metadata": {},
   "outputs": [],
   "source": [
    "response = retrieval_chain.invoke({\"input\": \"O que você acha do código abaixo?\"})"
   ]
  },
  {
   "cell_type": "code",
   "execution_count": 72,
   "metadata": {},
   "outputs": [
    {
     "name": "stdout",
     "output_type": "stream",
     "text": [
      "{\n",
      "    \"input\": \"O que voc\\u00ea acha do c\\u00f3digo abaixo?\",\n",
      "    \"context\": [\n",
      "        {\n",
      "            \"id\": null,\n",
      "            \"metadata\": {\n",
      "                \"language\": \"ts\",\n",
      "                \"source\": \"test_repo/src/endpoints/qconcursos/discursive/services/generation-grade-stream.service.ts\"\n",
      "            },\n",
      "            \"page_content\": \"` -- 2) Coer\\u00eancia e Coes\\u00e3o (Nessa parte, verifique a coer\\u00eancia e coes\\u00e3o da minha resposta, como os conceitos foram apresentados e o que pode melhorar) \\\\n` +\\n        ` -- 3) Dicas (Nessa parte, me d\\u00ea dicas de como melhorar a minha resposta, quais conceitos deveria ter abordado, como poderia ter redigido de uma forma melhor e outros pontos que considerar relevante.) \\\\n` +\\n        `- N\\u00e3o fa\\u00e7a nenhuma avalia\\u00e7\\u00e3o caso a resposta n\\u00e3o tenha rela\\u00e7\\u00e3o com a pergunta ou seja ofensiva \\\\n` +\\n        `- Utilize de tags HTML para facilitar a leitura da resposta \\\\n` +\\n        `- N\\u00e3o utilize de tags Markdown como ** \\\\n` +\\n        `Minha resposta: <userAnswer>${answerText}</userAnswer>`,\\n    },\\n  ];\\n};\",\n",
      "            \"type\": \"Document\"\n",
      "        },\n",
      "        {\n",
      "            \"id\": null,\n",
      "            \"metadata\": {\n",
      "                \"language\": \"ts\",\n",
      "                \"source\": \"test_repo/src/endpoints/qconcursos/trainer/services/trainer-prompt-generator.service.ts\"\n",
      "            },\n",
      "            \"page_content\": \"// trainer-prompt.service.ts\\nimport { TrainerFeedbackRequest } from \\\"../models/trainer-feedback-request\\\";\\n\\nexport const generateSystemMessage = (name: string): string => {\\n  const tones = [\\n    \\\"Energ\\u00e9tico e Motivacional\\\",\\n    \\\"Emp\\u00e1tico e Acolhedor\\\"\\n  ]\\n  const randomTone = tones[Math.floor(Math.random() * tones.length)];\\n  return `Suponha que voc\\u00ea \\u00e9 um mentor especializado na prepara\\u00e7\\u00e3o de estudantes para concursos p\\u00fablicos. Sua tarefa \\u00e9 enviar, no in\\u00edcio de cada semana, uma mensagem personalizada para motivar os estudos do aluno ${name}. Use o tom ${randomTone}. Nas mensagens utilize de marca\\u00e7\\u00f5es html para destacar as informa\\u00e7\\u00f5es importantes, n\\u00e3o use Markdown como o exemplo **, use apenas html. Use tags HTML adequadas para melhorar a legibilidade, como <p>, <ul>, <li>, <strong>, etc`;\\n};\\n\\nconst getResolvedCountMessage = ({ name, resolvedCount }: Partial<TrainerFeedbackRequest> ): string => {\\n  return `${name} resolveu ${resolvedCount} quest\\u00f5es na \\u00faltima semana. Crie uma mensagem para o aluno com base nesse n\\u00famero de quest\\u00f5es resolvidas.`;\\n};\\n\\nconst getPerformanceMessage = ({ performance }: Partial<TrainerFeedbackRequest>): string => {\\n  return `O desempenho do aluno foi de ${performance}%. Por favor, gere uma frase sobre essa performance com base nesse valor ${performance}%`\\n};\\n\\nconst getStudyDaysMessage = ({ sequenceOfDays }: Partial<TrainerFeedbackRequest>): string => {\\n  return `${sequenceOfDays} foram os n\\u00fameros de dias que o aluno estudou consecutivo. Crie uma mensagem para o aluno com base nesse n\\u00famero de dias.`;\\n};\\n\\nconst checkPreferredStudyGuide = ({ preferredStudyGuide }: Partial<TrainerFeedbackRequest>): string => {\\n  if (preferredStudyGuide) {\\n    return `o aluno j\\u00e1 escolheu o curso ${preferredStudyGuide} como preferido.`;\\n  }\\n\\n  return `incentive o aluno a buscar um curso na \\\"Mesa de Estudos\\\" que esteja conectado com seus objetivos.`;\\n};\",\n",
      "            \"type\": \"Document\"\n",
      "        },\n",
      "        {\n",
      "            \"id\": null,\n",
      "            \"metadata\": {\n",
      "                \"language\": \"ts\",\n",
      "                \"source\": \"test_repo/src/endpoints/qconcursos/jotunheim/controllers/convergence.controller.ts\"\n",
      "            },\n",
      "            \"page_content\": \"export const convergenceController = {\\n  checkConvergence: async ({\\n    userId,\\n    questionId,\\n    selectedOption,\\n  }: {\\n    userId: string;\\n    questionId: string;\\n    selectedOption: string;\\n  }): Promise<{ converged: boolean; message?: string }> => {\\n    try {\\n      const isConverged = Math.random() < 0.5;\\n\\n      if (isConverged) {\\n        return {\\n          converged: true,\\n          message: \\\"Converg\\u00eancia alcan\\u00e7ada. Fim do fluxo de perguntas.\\\",\\n        };\\n      } else {\\n        return {\\n          converged: false,\\n        };\\n      }\\n    } catch (error) {\\n      throw new Error(`Erro ao verificar converg\\u00eancia: ${error.message}`);\\n    }\\n  },\\n};\",\n",
      "            \"type\": \"Document\"\n",
      "        },\n",
      "        {\n",
      "            \"id\": null,\n",
      "            \"metadata\": {\n",
      "                \"language\": \"ts\",\n",
      "                \"source\": \"test_repo/src/endpoints/qconcursos/discursive/controllers/answer.controller.ts\"\n",
      "            },\n",
      "            \"page_content\": \"const existingAnswer = await answersRepository.findOne({\\n    questionId,\\n    authorId,\\n    content,\\n  });\\n\\n  if (existingAnswer) {\\n    return null;\\n  }\\n\\n  const response = await answersRepository.create({\\n    questionId,\\n    authorId,\\n    content,\\n    feedback\\n  });\\n\\n  return response;\\n}\",\n",
      "            \"type\": \"Document\"\n",
      "        },\n",
      "        {\n",
      "            \"id\": null,\n",
      "            \"metadata\": {\n",
      "                \"language\": \"ts\",\n",
      "                \"source\": \"test_repo/src/endpoints/qconcursos/database/repositories/supabase-repository.ts\"\n",
      "            },\n",
      "            \"page_content\": \"if (error) {\\n      return null;\\n    }\\n\\n    return this.snakeToCamelCase(data) as T;\\n  }\\n\\n  async findBySlug(slug: string): Promise<T | null> {\\n    const { data, error } = await this.supabase\\n      .from(this.tableName)\\n      .select('*')\\n      .eq('slug', slug)\\n      .single();\\n\\n    if (error) {\\n      return null;\\n    }\\n\\n    return this.snakeToCamelCase(data) as T;\\n  }\\n\\n  async findByDisciplineId(disciplineId: number, limit: number, page: number): Promise<T[]> {\\n    const { data, error } = await this.supabase\\n      .from(this.tableName)\\n      .select('slug, statement, difficulty')\\n      .eq('discipline_id', disciplineId)\\n      .range(limit * (page - 1), limit * page - 1)\\n      .order('id', { ascending: true });\\n\\n    if (error) {\\n      throw new Error(`Failed to fetch data from ${this.tableName} by disciplineId`);\\n    }\\n\\n    return this.snakeToCamelCase(data) as T[] ?? [];\\n  }\\n\\n  async findOne(filters: Partial<T>): Promise<T | null> {\\n    const snakeCaseFilters = this.camelToSnakeCase(filters);\\n\\n    const query = this.supabase.from(this.tableName).select('*').limit(1);\\n    for (const [key, value] of Object.entries(snakeCaseFilters)) {\\n      query.eq(key, value);\\n    }\\n\\n    const { data, error } = await query.single();\\n\\n    if (error || !data) {\\n      return null;\\n    }\\n    return this.snakeToCamelCase(data) as T;\\n  }\\n\\n  async create(item: Partial<T>): Promise<T> {\\n    const snakeCaseItem = this.camelToSnakeCase(item);\\n    const { data, error } = await this.supabase\\n      .from(this.tableName)\\n      .insert(snakeCaseItem)\\n      .select()\\n      .single();\\n\\n    if (error) {\\n      throw new Error(`Failed to create item in ${this.tableName}: ${error.message}`);\\n    }\\n\\n    return this.snakeToCamelCase(data) as T;\\n  }\",\n",
      "            \"type\": \"Document\"\n",
      "        },\n",
      "        {\n",
      "            \"id\": null,\n",
      "            \"metadata\": {\n",
      "                \"language\": \"ts\",\n",
      "                \"source\": \"test_repo/src/lib/router.ts\"\n",
      "            },\n",
      "            \"page_content\": \"import { OpenAPIRouter } from \\\"@cloudflare/itty-router-openapi\\\";\\n\\nexport const Router = OpenAPIRouter({\\n  docs_url: \\\"/\\\",\\n});\",\n",
      "            \"type\": \"Document\"\n",
      "        },\n",
      "        {\n",
      "            \"id\": null,\n",
      "            \"metadata\": {\n",
      "                \"language\": \"ts\",\n",
      "                \"source\": \"test_repo/src/endpoints/qconcursos/discursive/services/generation-grade-stream.service.ts\"\n",
      "            },\n",
      "            \"page_content\": \"import { openai } from \\\"providers/openai\\\";\\nimport { Env } from \\\"../../../../types\\\";\\nimport { touchAnswer } from \\\"../controllers/answer.controller\\\";\\nimport { QuestionProps } from \\\"../models/question\\\";\",\n",
      "            \"type\": \"Document\"\n",
      "        },\n",
      "        {\n",
      "            \"id\": null,\n",
      "            \"metadata\": {\n",
      "                \"language\": \"ts\",\n",
      "                \"source\": \"test_repo/src/endpoints/qconcursos/discursive/models/discipline.ts\"\n",
      "            },\n",
      "            \"page_content\": \"export interface DisciplineProps {\\n  id?: number;\\n  name: string;\\n}\",\n",
      "            \"type\": \"Document\"\n",
      "        }\n",
      "    ],\n",
      "    \"answer\": \"A revis\\u00e3o do seu c\\u00f3digo envolve a an\\u00e1lise da coer\\u00eancia e coes\\u00e3o das respostas, al\\u00e9m de sugest\\u00f5es de melhorias. Vamos abordar essas \\u00e1reas espec\\u00edficas em dois pontos principais: Coer\\u00eancia e Coes\\u00e3o, e Dicas.\\n\\n### 1) Coer\\u00eancia e Coes\\u00e3o\\n\\n**Coer\\u00eancia** se refere \\u00e0 l\\u00f3gica interna da resposta, enquanto **coes\\u00e3o** diz respeito \\u00e0 forma como as partes da resposta se conectam. \\n\\n- **Coer\\u00eancia**: Sua abordagem inicial \\u00e9 clara e direta, com instru\\u00e7\\u00f5es espec\\u00edficas sobre o que deve ser feito, como evitar avalia\\u00e7\\u00f5es de respostas irrelevantes ou ofensivas e a utiliza\\u00e7\\u00e3o de tags HTML. No entanto, a estrutura da mensagem poderia ser melhorada para apresentar os conceitos de forma mais sequencial e l\\u00f3gica. Por exemplo, voc\\u00ea pode introduzir a necessidade de coer\\u00eancia e coes\\u00e3o logo ap\\u00f3s a descri\\u00e7\\u00e3o das instru\\u00e7\\u00f5es.\\n\\n- **Coes\\u00e3o**: As partes da mensagem parecem bem conectadas, mas a transi\\u00e7\\u00e3o entre as instru\\u00e7\\u00f5es e a parte em que voc\\u00ea apresenta a resposta pode ser suavizada. Voc\\u00ea poderia usar frases de transi\\u00e7\\u00e3o que liguem as instru\\u00e7\\u00f5es \\u00e0s expectativas das respostas. Por exemplo, \\u201cAp\\u00f3s a revis\\u00e3o, aqui est\\u00e3o algumas sugest\\u00f5es de como melhorar a sua resposta:\\u201d.\\n\\n### 2) Dicas\\n\\nAqui est\\u00e3o algumas sugest\\u00f5es para melhorar sua resposta:\\n\\n- **Estrutura Clara**: Considere dividir sua resposta em se\\u00e7\\u00f5es claramente definidas, como \\u201cInstru\\u00e7\\u00f5es\\u201d, \\u201cCoer\\u00eancia e Coes\\u00e3o\\u201d, e \\u201cSugest\\u00f5es de Melhoria\\u201d. Isso facilita a leitura.\\n\\n- **Exemplos**: Incluir exemplos de respostas coerentes e coesas pode ajudar o usu\\u00e1rio a entender melhor o que voc\\u00ea espera. Isso pode ser feito atrav\\u00e9s de exemplos de boas pr\\u00e1ticas.\\n\\n- **Uso de Tags HTML**: Ao utilizar tags HTML, certifique-se de que est\\u00e3o sendo aplicadas corretamente. Por exemplo, voc\\u00ea pode usar `<p>` para par\\u00e1grafos, `<ul>` para listas, e `<strong>` para destacar informa\\u00e7\\u00f5es importantes.\\n\\n- **Tom de Voz**: Adapte o tom de voz para o p\\u00fablico-alvo. Se os alunos s\\u00e3o jovens, um tom mais leve e motivacional pode ser mais eficaz. Se forem adultos, um tom mais s\\u00e9rio e informativo pode ser mais apropriado.\\n\\n- **Feedback Construtivo**: Quando fornecer feedback, tente ser espec\\u00edfico sobre o que foi bom e o que precisa ser melhorado. Por exemplo, em vez de dizer \\u201ca resposta est\\u00e1 confusa\\u201d, voc\\u00ea pode dizer \\u201ca estrutura da resposta poderia ser mais clara se voc\\u00ea organizasse as ideias em t\\u00f3picos\\u201d.\\n\\n### Implementa\\u00e7\\u00e3o de HTML\\n\\nComo voc\\u00ea pediu para utilizar tags HTML, aqui est\\u00e1 um exemplo de como voc\\u00ea poderia estruturar sua resposta:\\n\\n```html\\n<p><strong>Coer\\u00eancia e Coes\\u00e3o:</strong></p>\\n<p>Vamos analisar a l\\u00f3gica interna da sua resposta e como as partes se conectam.</p>\\n\\n<p><strong>Dicas para Melhorar:</strong></p>\\n<ul>\\n  <li>Estruture sua resposta em se\\u00e7\\u00f5es claras.</li>\\n  <li>Inclua exemplos de respostas coerentes.</li>\\n  <li>Utilize tags HTML para organizar a informa\\u00e7\\u00e3o.</li>\\n  <li>Adapte o tom de voz para o seu p\\u00fablico.</li>\\n  <li>Forne\\u00e7a feedback espec\\u00edfico e construtivo.</li>\\n</ul>\\n```\\n\\n### Conclus\\u00e3o\\n\\nEm resumo, ao revisar seu c\\u00f3digo, focamos em melhorar a coer\\u00eancia e coes\\u00e3o das respostas e fornecemos dicas espec\\u00edficas para aprimorar a reda\\u00e7\\u00e3o e a estrutura das mensagens. Implementar as sugest\\u00f5es acima pode ajudar a tornar suas respostas mais claras, concisas e eficazes.\"\n",
      "}\n"
     ]
    }
   ],
   "source": [
    "import json\n",
    "\n",
    "# Supondo que 'response' é o objeto retornado\n",
    "def make_serializable(obj):\n",
    "    if isinstance(obj, list):\n",
    "        return [make_serializable(item) for item in obj]\n",
    "    elif isinstance(obj, dict):\n",
    "        return {key: make_serializable(value) for key, value in obj.items()}\n",
    "    elif hasattr(obj, \"__dict__\"):  # Verifica se é um objeto com atributos\n",
    "        return make_serializable(obj.__dict__)\n",
    "    elif hasattr(obj, \"_asdict\"):  # Para objetos do tipo namedtuple\n",
    "        return make_serializable(obj._asdict())\n",
    "    else:\n",
    "        return obj\n",
    "\n",
    "# Tornar serializável\n",
    "serializable_response = make_serializable(response)\n",
    "\n",
    "# Formatar como JSON\n",
    "formatted_response = json.dumps(serializable_response, indent=4)\n",
    "print(formatted_response)"
   ]
  },
  {
   "cell_type": "code",
   "execution_count": 73,
   "metadata": {},
   "outputs": [
    {
     "name": "stdout",
     "output_type": "stream",
     "text": [
      "A revisão do seu código envolve a análise da coerência e coesão das respostas, além de sugestões de melhorias. Vamos abordar essas áreas específicas em dois pontos principais: Coerência e Coesão, e Dicas.\n",
      "\n",
      "### 1) Coerência e Coesão\n",
      "\n",
      "**Coerência** se refere à lógica interna da resposta, enquanto **coesão** diz respeito à forma como as partes da resposta se conectam. \n",
      "\n",
      "- **Coerência**: Sua abordagem inicial é clara e direta, com instruções específicas sobre o que deve ser feito, como evitar avaliações de respostas irrelevantes ou ofensivas e a utilização de tags HTML. No entanto, a estrutura da mensagem poderia ser melhorada para apresentar os conceitos de forma mais sequencial e lógica. Por exemplo, você pode introduzir a necessidade de coerência e coesão logo após a descrição das instruções.\n",
      "\n",
      "- **Coesão**: As partes da mensagem parecem bem conectadas, mas a transição entre as instruções e a parte em que você apresenta a resposta pode ser suavizada. Você poderia usar frases de transição que liguem as instruções às expectativas das respostas. Por exemplo, “Após a revisão, aqui estão algumas sugestões de como melhorar a sua resposta:”.\n",
      "\n",
      "### 2) Dicas\n",
      "\n",
      "Aqui estão algumas sugestões para melhorar sua resposta:\n",
      "\n",
      "- **Estrutura Clara**: Considere dividir sua resposta em seções claramente definidas, como “Instruções”, “Coerência e Coesão”, e “Sugestões de Melhoria”. Isso facilita a leitura.\n",
      "\n",
      "- **Exemplos**: Incluir exemplos de respostas coerentes e coesas pode ajudar o usuário a entender melhor o que você espera. Isso pode ser feito através de exemplos de boas práticas.\n",
      "\n",
      "- **Uso de Tags HTML**: Ao utilizar tags HTML, certifique-se de que estão sendo aplicadas corretamente. Por exemplo, você pode usar `<p>` para parágrafos, `<ul>` para listas, e `<strong>` para destacar informações importantes.\n",
      "\n",
      "- **Tom de Voz**: Adapte o tom de voz para o público-alvo. Se os alunos são jovens, um tom mais leve e motivacional pode ser mais eficaz. Se forem adultos, um tom mais sério e informativo pode ser mais apropriado.\n",
      "\n",
      "- **Feedback Construtivo**: Quando fornecer feedback, tente ser específico sobre o que foi bom e o que precisa ser melhorado. Por exemplo, em vez de dizer “a resposta está confusa”, você pode dizer “a estrutura da resposta poderia ser mais clara se você organizasse as ideias em tópicos”.\n",
      "\n",
      "### Implementação de HTML\n",
      "\n",
      "Como você pediu para utilizar tags HTML, aqui está um exemplo de como você poderia estruturar sua resposta:\n",
      "\n",
      "```html\n",
      "<p><strong>Coerência e Coesão:</strong></p>\n",
      "<p>Vamos analisar a lógica interna da sua resposta e como as partes se conectam.</p>\n",
      "\n",
      "<p><strong>Dicas para Melhorar:</strong></p>\n",
      "<ul>\n",
      "  <li>Estruture sua resposta em seções claras.</li>\n",
      "  <li>Inclua exemplos de respostas coerentes.</li>\n",
      "  <li>Utilize tags HTML para organizar a informação.</li>\n",
      "  <li>Adapte o tom de voz para o seu público.</li>\n",
      "  <li>Forneça feedback específico e construtivo.</li>\n",
      "</ul>\n",
      "```\n",
      "\n",
      "### Conclusão\n",
      "\n",
      "Em resumo, ao revisar seu código, focamos em melhorar a coerência e coesão das respostas e fornecemos dicas específicas para aprimorar a redação e a estrutura das mensagens. Implementar as sugestões acima pode ajudar a tornar suas respostas mais claras, concisas e eficazes.\n"
     ]
    }
   ],
   "source": [
    "print(response['answer'])"
   ]
  },
  {
   "cell_type": "code",
   "execution_count": null,
   "metadata": {},
   "outputs": [],
   "source": []
  }
 ],
 "metadata": {
  "kernelspec": {
   "display_name": "myenv",
   "language": "python",
   "name": "python3"
  },
  "language_info": {
   "codemirror_mode": {
    "name": "ipython",
    "version": 3
   },
   "file_extension": ".py",
   "mimetype": "text/x-python",
   "name": "python",
   "nbconvert_exporter": "python",
   "pygments_lexer": "ipython3",
   "version": "3.10.14"
  }
 },
 "nbformat": 4,
 "nbformat_minor": 2
}
