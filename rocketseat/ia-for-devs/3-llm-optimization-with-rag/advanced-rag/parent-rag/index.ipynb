{
 "cells": [
  {
   "cell_type": "code",
   "execution_count": 115,
   "metadata": {},
   "outputs": [],
   "source": [
    "from langchain_text_splitters import RecursiveCharacterTextSplitter\n",
    "from langchain_openai import ChatOpenAI, OpenAIEmbeddings\n",
    "from langchain_community.vectorstores import Chroma\n",
    "from langchain_community.document_loaders import PyPDFLoader\n",
    "from langchain_core.prompts import ChatPromptTemplate\n",
    "\n",
    "from langchain_core.runnables import RunnablePassthrough, RunnableParallel\n",
    "from langchain_core.output_parsers import StrOutputParser\n",
    "\n",
    "from langchain.retrievers import ParentDocumentRetriever\n",
    "from langchain.storage import InMemoryStore\n"
   ]
  },
  {
   "cell_type": "code",
   "execution_count": null,
   "metadata": {},
   "outputs": [],
   "source": [
    "import os\n",
    "api_key=os.getenv('Q_API_KEY')"
   ]
  },
  {
   "cell_type": "code",
   "execution_count": 117,
   "metadata": {},
   "outputs": [],
   "source": [
    "embeddings = OpenAIEmbeddings(model=\"text-embedding-3-small\")\n",
    "llm = ChatOpenAI(model_name=\"gpt-4o-mini\", max_tokens=500)"
   ]
  },
  {
   "cell_type": "code",
   "execution_count": 118,
   "metadata": {},
   "outputs": [],
   "source": [
    "# Carregar o PDF\n",
    "pdf_link = \"6x1.pdf\"\n",
    "loader = PyPDFLoader(pdf_link, extract_images=False)\n",
    "\n",
    "pages = loader.load_and_split()"
   ]
  },
  {
   "cell_type": "code",
   "execution_count": 119,
   "metadata": {},
   "outputs": [
    {
     "data": {
      "text/plain": [
       "7"
      ]
     },
     "execution_count": 119,
     "metadata": {},
     "output_type": "execute_result"
    }
   ],
   "source": [
    "len(pages)"
   ]
  },
  {
   "cell_type": "code",
   "execution_count": 120,
   "metadata": {},
   "outputs": [],
   "source": [
    "# Splitter\n",
    "child_splitter = RecursiveCharacterTextSplitter(chunk_size = 200)\n",
    "\n",
    "parent_splitter = RecursiveCharacterTextSplitter(\n",
    "    chunk_size = 4000,\n",
    "    chunk_overlap = 200,\n",
    "    length_function = len,\n",
    "    add_start_index = True\n",
    ")"
   ]
  },
  {
   "cell_type": "code",
   "execution_count": 121,
   "metadata": {},
   "outputs": [],
   "source": [
    "# Storages\n",
    "store = InMemoryStore()\n",
    "vectorstore = Chroma(embedding_function=embeddings, persist_directory='childVectorDB')"
   ]
  },
  {
   "cell_type": "code",
   "execution_count": 122,
   "metadata": {},
   "outputs": [],
   "source": [
    "parent_document_retriever = ParentDocumentRetriever(\n",
    "    vectorstore=vectorstore,\n",
    "    docstore=store,\n",
    "    child_splitter=child_splitter,\n",
    "    parent_splitter=parent_splitter\n",
    ")\n",
    "\n",
    "parent_document_retriever.add_documents(pages, ids=None)"
   ]
  },
  {
   "cell_type": "code",
   "execution_count": 123,
   "metadata": {},
   "outputs": [],
   "source": [
    "# parent_document_retriever.vectorstore.get()"
   ]
  },
  {
   "cell_type": "code",
   "execution_count": 124,
   "metadata": {},
   "outputs": [],
   "source": [
    "TEMPLATE = \"\"\"\n",
    "  Você é um especialista em legislação e em trabalho. Responda a pergunta abaixo utilizando o contexto informado.\n",
    "  Query:\n",
    "  {question}\n",
    "\n",
    "  Context:\n",
    "  {context}\n",
    "\"\"\"\n",
    "\n",
    "rag_prompt = ChatPromptTemplate.from_template(TEMPLATE)"
   ]
  },
  {
   "cell_type": "code",
   "execution_count": 125,
   "metadata": {},
   "outputs": [],
   "source": [
    "setup_retrieval = RunnableParallel({\"question\": RunnablePassthrough(), \"context\": parent_document_retriever})\n",
    "\n",
    "output_parser = StrOutputParser()"
   ]
  },
  {
   "cell_type": "code",
   "execution_count": 126,
   "metadata": {},
   "outputs": [],
   "source": [
    "parent_chain_retrieval = setup_retrieval | rag_prompt | llm | output_parser"
   ]
  },
  {
   "cell_type": "code",
   "execution_count": 127,
   "metadata": {},
   "outputs": [
    {
     "data": {
      "text/plain": [
       "'Com base no documento apresentado, os principais riscos associados à aprovação da emenda à constituição que propõe a redução da jornada de trabalho com a manutenção do salário incluem:\\n\\n1. **Ambiguidade na Implementação**: Apesar de a proposta buscar proteger os trabalhadores contra a redução indireta de remuneração, a falta de clareza na implementação pode levar a interpretações diversas, resultando em desigualdades e inseguranças trabalhistas.\\n\\n2. **Impacto nas Pequenas Empresas**: A obrigação de manter salários na redução da jornada pode representar um desafio financeiro para pequenas e médias empresas, que podem não ter a mesma flexibilidade financeira que grandes corporações, potencialmente levando a demissões ou fechamento de negócios.\\n\\n3. **Desigualdade na Aplicação**: A proposta pode beneficiar apenas setores que já possuem uma estrutura mais robusta para implementar tais mudanças, deixando outros setores vulneráveis a abusos e precarização do trabalho.\\n\\n4. **Possível Aumento da Carga de Trabalho**: Em algumas situações, a redução da jornada pode levar a um aumento da carga de trabalho durante as horas trabalhadas, sem que haja um aumento proporcional na remuneração, o que pode resultar em estresse e burnout para os trabalhadores.\\n\\n5. **Desvio das Práticas de Gestão**: Embora a proposta mencione a inovação nas práticas de gestão, pode haver resistência por parte das empresas em adotar essas mudanças, levando a uma implementação falha e à insatisfação dos trabalhadores.\\n\\n6. **Desafios de Fiscalização**: A implementação de novas regras trabalhistas requer um sistema de fiscalização eficiente. A falta de recursos e pessoal para monitorar o cumprimento das novas normas pode resultar em abusos e na não aplicação dos direitos garantidos aos trabalhadores.\\n\\nEsses riscos devem ser cuidadosamente avaliados em um debate amplo e informado sobre as possíveis consequências da aprovação da emenda.'"
      ]
     },
     "execution_count": 127,
     "metadata": {},
     "output_type": "execute_result"
    }
   ],
   "source": [
    "parent_chain_retrieval.invoke(\"Com base no documento apresentado quais os principais riscos se for aprovado?\")"
   ]
  }
 ],
 "metadata": {
  "kernelspec": {
   "display_name": "myenv",
   "language": "python",
   "name": "python3"
  },
  "language_info": {
   "codemirror_mode": {
    "name": "ipython",
    "version": 3
   },
   "file_extension": ".py",
   "mimetype": "text/x-python",
   "name": "python",
   "nbconvert_exporter": "python",
   "pygments_lexer": "ipython3",
   "version": "3.10.14"
  }
 },
 "nbformat": 4,
 "nbformat_minor": 2
}
