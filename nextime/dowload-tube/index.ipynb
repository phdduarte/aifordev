{
 "cells": [
  {
   "cell_type": "code",
   "execution_count": 3,
   "metadata": {},
   "outputs": [
    {
     "name": "stdout",
     "output_type": "stream",
     "text": [
      "Collecting yt-dlp\n",
      "  Downloading yt_dlp-2025.1.26-py3-none-any.whl.metadata (172 kB)\n",
      "Downloading yt_dlp-2025.1.26-py3-none-any.whl (3.2 MB)\n",
      "\u001b[2K   \u001b[90m━━━━━━━━━━━━━━━━━━━━━━━━━━━━━━━━━━━━━━━━\u001b[0m \u001b[32m3.2/3.2 MB\u001b[0m \u001b[31m37.4 MB/s\u001b[0m eta \u001b[36m0:00:00\u001b[0m\n",
      "\u001b[?25hInstalling collected packages: yt-dlp\n",
      "Successfully installed yt-dlp-2025.1.26\n",
      "\n",
      "\u001b[1m[\u001b[0m\u001b[34;49mnotice\u001b[0m\u001b[1;39;49m]\u001b[0m\u001b[39;49m A new release of pip is available: \u001b[0m\u001b[31;49m24.2\u001b[0m\u001b[39;49m -> \u001b[0m\u001b[32;49m25.0.1\u001b[0m\n",
      "\u001b[1m[\u001b[0m\u001b[34;49mnotice\u001b[0m\u001b[1;39;49m]\u001b[0m\u001b[39;49m To update, run: \u001b[0m\u001b[32;49m/Users/pedroduarte/myenv/bin/python3 -m pip install --upgrade pip\u001b[0m\n",
      "Note: you may need to restart the kernel to use updated packages.\n"
     ]
    }
   ],
   "source": [
    "pip install yt-dlp"
   ]
  },
  {
   "cell_type": "code",
   "execution_count": 6,
   "metadata": {},
   "outputs": [],
   "source": [
    "import os\n",
    "\n",
    "# Define o caminho do ffmpeg para o ambiente do Jupyter\n",
    "os.environ[\"FFMPEG_BINARY\"] = \"/opt/homebrew/bin/ffmpeg\"\n",
    "os.environ[\"PATH\"] += os.pathsep + \"/opt/homebrew/bin\""
   ]
  },
  {
   "cell_type": "code",
   "execution_count": 7,
   "metadata": {},
   "outputs": [
    {
     "name": "stderr",
     "output_type": "stream",
     "text": [
      "98.49s - pydevd: Sending message related to process being replaced timed-out after 5 seconds\n"
     ]
    },
    {
     "name": "stdout",
     "output_type": "stream",
     "text": [
      "ffmpeg version 7.1 Copyright (c) 2000-2024 the FFmpeg developers\n",
      "built with Apple clang version 16.0.0 (clang-1600.0.26.4)\n",
      "configuration: --prefix=/opt/homebrew/Cellar/ffmpeg/7.1_4 --enable-shared --enable-pthreads --enable-version3 --cc=clang --host-cflags= --host-ldflags='-Wl,-ld_classic' --enable-ffplay --enable-gnutls --enable-gpl --enable-libaom --enable-libaribb24 --enable-libbluray --enable-libdav1d --enable-libharfbuzz --enable-libjxl --enable-libmp3lame --enable-libopus --enable-librav1e --enable-librist --enable-librubberband --enable-libsnappy --enable-libsrt --enable-libssh --enable-libsvtav1 --enable-libtesseract --enable-libtheora --enable-libvidstab --enable-libvmaf --enable-libvorbis --enable-libvpx --enable-libwebp --enable-libx264 --enable-libx265 --enable-libxml2 --enable-libxvid --enable-lzma --enable-libfontconfig --enable-libfreetype --enable-frei0r --enable-libass --enable-libopencore-amrnb --enable-libopencore-amrwb --enable-libopenjpeg --enable-libspeex --enable-libsoxr --enable-libzmq --enable-libzimg --disable-libjack --disable-indev=jack --enable-videotoolbox --enable-audiotoolbox --enable-neon\n",
      "libavutil      59. 39.100 / 59. 39.100\n",
      "libavcodec     61. 19.100 / 61. 19.100\n",
      "libavformat    61.  7.100 / 61.  7.100\n",
      "libavdevice    61.  3.100 / 61.  3.100\n",
      "libavfilter    10.  4.100 / 10.  4.100\n",
      "libswscale      8.  3.100 /  8.  3.100\n",
      "libswresample   5.  3.100 /  5.  3.100\n",
      "libpostproc    58.  3.100 / 58.  3.100\n"
     ]
    }
   ],
   "source": [
    "!ffmpeg -version"
   ]
  },
  {
   "cell_type": "code",
   "execution_count": 10,
   "metadata": {},
   "outputs": [
    {
     "name": "stdout",
     "output_type": "stream",
     "text": [
      "[youtube] Extracting URL: https://www.youtube.com/watch?v=8NUQWPRSEO8&ab_channel=Rocketseat\n",
      "[youtube] 8NUQWPRSEO8: Downloading webpage\n",
      "[youtube] 8NUQWPRSEO8: Downloading tv client config\n",
      "[youtube] 8NUQWPRSEO8: Downloading player e7567ecf\n",
      "[youtube] 8NUQWPRSEO8: Downloading tv player API JSON\n",
      "[youtube] 8NUQWPRSEO8: Downloading ios player API JSON\n",
      "[youtube] 8NUQWPRSEO8: Downloading m3u8 information\n",
      "[info] 8NUQWPRSEO8: Downloading 1 format(s): 399+251\n",
      "[download] Destination: ./Aula 01 ｜ Node.js： Criação e configuração inicial do projeto ｜ NLW CONNECT.f399.mp4\n",
      "[download] 100% of  124.34MiB in 00:00:03 at 34.63MiB/s    \n",
      "[download] Destination: ./Aula 01 ｜ Node.js： Criação e configuração inicial do projeto ｜ NLW CONNECT.f251.webm\n",
      "[download] 100% of   38.83MiB in 00:00:01 at 37.52MiB/s    \n",
      "[Merger] Merging formats into \"./Aula 01 ｜ Node.js： Criação e configuração inicial do projeto ｜ NLW CONNECT.mp4\"\n",
      "Deleting original file ./Aula 01 ｜ Node.js： Criação e configuração inicial do projeto ｜ NLW CONNECT.f251.webm (pass -k to keep)\n",
      "Deleting original file ./Aula 01 ｜ Node.js： Criação e configuração inicial do projeto ｜ NLW CONNECT.f399.mp4 (pass -k to keep)\n"
     ]
    }
   ],
   "source": [
    "import yt_dlp\n",
    "\n",
    "def download_video(url: str, output_path: str = \".\"):\n",
    "    ydl_opts = {\n",
    "        'format': 'bestvideo+bestaudio/best',  # Baixa a melhor qualidade disponível\n",
    "        'outtmpl': f'{output_path}/%(title)s.%(ext)s',  # Define o nome do arquivo de saída\n",
    "        'merge_output_format': 'mp4'  # Formato final do vídeo\n",
    "    }\n",
    "\n",
    "    with yt_dlp.YoutubeDL(ydl_opts) as ydl:\n",
    "        ydl.download([url])\n",
    "\n",
    "# Exemplo de uso\n",
    "video_url = input(\"Digite a URL do vídeo: \")\n",
    "download_video(video_url)"
   ]
  }
 ],
 "metadata": {
  "kernelspec": {
   "display_name": "Python (myenv)",
   "language": "python",
   "name": "myenv"
  },
  "language_info": {
   "codemirror_mode": {
    "name": "ipython",
    "version": 3
   },
   "file_extension": ".py",
   "mimetype": "text/x-python",
   "name": "python",
   "nbconvert_exporter": "python",
   "pygments_lexer": "ipython3",
   "version": "3.10.16"
  }
 },
 "nbformat": 4,
 "nbformat_minor": 2
}
