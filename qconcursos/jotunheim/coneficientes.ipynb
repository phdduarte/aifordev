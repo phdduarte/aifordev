{
 "cells": [
  {
   "cell_type": "code",
   "execution_count": 2,
   "metadata": {},
   "outputs": [
    {
     "name": "stdout",
     "output_type": "stream",
     "text": [
      "Arquivo processado e salvo como: Gestão da Qualidade_atualizado.csv\n"
     ]
    }
   ],
   "source": [
    "import pandas as pd\n",
    "\n",
    "# Definir o nome base do arquivo\n",
    "file_name = \"Gestão da Qualidade\"  # Substitua pelo nome base do seu arquivo\n",
    "\n",
    "# Construir o caminho para o arquivo de entrada e de saída\n",
    "file_path = f\"{file_name}.csv\"  # Caminho do arquivo original\n",
    "output_file_path = f\"{file_name}_atualizado.csv\"  # Caminho do arquivo final\n",
    "\n",
    "# Carregar o arquivo CSV em um DataFrame\n",
    "df = pd.read_csv(file_path)\n",
    "\n",
    "# Remover as colunas 'g' e 'u'\n",
    "df = df.drop(columns=['g', 'u'])\n",
    "\n",
    "# Renomear as colunas 'a' e 'b' para 'discrimination' e 'difficulty'\n",
    "df = df.rename(columns={'a': 'discrimination', 'b': 'difficulty'})\n",
    "\n",
    "# Renomear a coluna 'question_id' para 'odin_reference_question_id'\n",
    "df = df.rename(columns={'question_id': 'odin_reference_question_id'})\n",
    "\n",
    "# Adicionar as colunas 'version' e 'subject_id' com valores constantes\n",
    "df['version'] = 'v1'\n",
    "df['subject_id'] = 12\n",
    "\n",
    "# Salvar o DataFrame resultante em um novo arquivo CSV\n",
    "df.to_csv(output_file_path, index=False)\n",
    "\n",
    "print(f\"Arquivo processado e salvo como: {output_file_path}\")"
   ]
  }
 ],
 "metadata": {
  "kernelspec": {
   "display_name": "myenv",
   "language": "python",
   "name": "python3"
  },
  "language_info": {
   "codemirror_mode": {
    "name": "ipython",
    "version": 3
   },
   "file_extension": ".py",
   "mimetype": "text/x-python",
   "name": "python",
   "nbconvert_exporter": "python",
   "pygments_lexer": "ipython3",
   "version": "3.10.16"
  }
 },
 "nbformat": 4,
 "nbformat_minor": 2
}
